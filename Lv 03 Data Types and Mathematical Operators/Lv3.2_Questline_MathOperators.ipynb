{
 "cells": [
  {
   "attachments": {},
   "cell_type": "markdown",
   "metadata": {},
   "source": [
    "# **Level 3.2 Questline Mathematical Operators**"
   ]
  },
  {
   "attachments": {},
   "cell_type": "markdown",
   "metadata": {},
   "source": [
    "**Expression | Ausdruck**"
   ]
  },
  {
   "cell_type": "code",
   "execution_count": null,
   "metadata": {},
   "outputs": [],
   "source": [
    "print(2+5)"
   ]
  },
  {
   "cell_type": "markdown",
   "metadata": {},
   "source": [
    "***"
   ]
  },
  {
   "attachments": {},
   "cell_type": "markdown",
   "metadata": {},
   "source": [
    "## **Mathematische Operatoren und Pemdas**\n",
    "Mathematische- bzw. Arithmetische Operatoren werden verwendet um mathematische Operationen durch zu führen."
   ]
  },
  {
   "cell_type": "code",
   "execution_count": null,
   "metadata": {},
   "outputs": [],
   "source": [
    "3 + 5\n",
    "7 - 4\n",
    "3 * 2\n",
    "6 / 3 # das Ergebnis ist immer ein Float\n",
    "2**3 # 2 hoch 3 | 2 to the power of 3 # Wenn beide Parameter ein int sind -> Result int\n",
    "\n",
    "# Exponential Operator => right-sided Binding\n",
    "\n",
    "# PEMDAS\n",
    "\n",
    "# Parantheses ()\n",
    "# Exponents **\n",
    "# Multiplication *\n",
    "# Division /\n",
    "# Addition +\n",
    "# Substraction -\n",
    "# Binding Direction"
   ]
  },
  {
   "attachments": {},
   "cell_type": "markdown",
   "metadata": {},
   "source": [
    "#### **Lv 3.2 Training 1**"
   ]
  },
  {
   "cell_type": "code",
   "execution_count": null,
   "metadata": {},
   "outputs": [],
   "source": [
    "# input a float value for variable a here\n",
    "# input a float value for variable b here\n",
    "\n",
    "# output the result of addition here\n",
    "# output the result of subtraction here\n",
    "# output the result of multiplication here\n",
    "# output the result of division here\n",
    "\n",
    "print(\"\\nThat's all, folks!\")"
   ]
  },
  {
   "cell_type": "markdown",
   "metadata": {},
   "source": [
    "***"
   ]
  },
  {
   "attachments": {},
   "cell_type": "markdown",
   "metadata": {},
   "source": [
    "## **Runden**"
   ]
  },
  {
   "cell_type": "code",
   "execution_count": null,
   "metadata": {},
   "outputs": [],
   "source": [
    "# math.ceil Aufrunden\n",
    "# math.floor Abrunden\n",
    "# round(8/3, 2) Runden mit Digits hinter dem Komma\n",
    "# 8 // 3 floorDivision oder Integer Division\n",
    "# 6 // 4 | 6. // 4 | -6 // 4 | 6 // -4."
   ]
  },
  {
   "cell_type": "markdown",
   "metadata": {},
   "source": [
    "***"
   ]
  },
  {
   "cell_type": "markdown",
   "metadata": {},
   "source": [
    "#### **Lv 3.2 Quest 1 Konvertierung**\n",
    "Meilen und Kilometer sind Einheiten der Länge oder Entfernung.\n",
    "Berücksichtigen Sie, dass 1 Meile etwa 1,61 Kilometern entspricht\n",
    "und vervollständigen Sie das Programm im Editor so, dass es die Maßeinheiten konvertiert.\n",
    "\n",
    "Meilen in Kilometer;\n",
    "Kilometer in Meilen.\n",
    "\n",
    "Ändern Sie nichts an dem bestehenden Code. \n",
    "Schreiben Sie Ihren Code an den mit ### gekennzeichneten Stellen. \n",
    "Testen Sie Ihr Programm mit den Daten, die im Quellcode angegeben sind."
   ]
  },
  {
   "cell_type": "code",
   "execution_count": null,
   "metadata": {},
   "outputs": [],
   "source": [
    "# 🚨 Der Code unter dieser Zeile muss erhalten bleiben 👇\n",
    "kilometers = 12.25\n",
    "miles = 7.38\n",
    "\n",
    "miles_to_kilometers = ###\n",
    "kilometers_to_miles = ###\n",
    "\n",
    "print(miles, \"miles is\", round(miles_to_kilometers, 2), \"kilometers\")\n",
    "print(kilometers, \"kilometers is\", round(kilometers_to_miles, 2), \"miles\")\n",
    "# 🚨 Der Code über dieser Zeile muss erhalten bleiben 👆"
   ]
  },
  {
   "cell_type": "markdown",
   "metadata": {},
   "source": [
    "<div class=\"alert alert-block alert-success\">\n",
    "<b>Lösung Lv 3.2 Quest 1 Konvertierung</b>\n",
    "</div>"
   ]
  },
  {
   "cell_type": "code",
   "execution_count": null,
   "metadata": {},
   "outputs": [],
   "source": [
    "# 🚨 Der Code unter dieser Zeile muss erhalten bleiben 👇\n",
    "kilometers = 12.25\n",
    "miles = 7.38\n",
    "\n",
    "miles_to_kilometers = ###\n",
    "kilometers_to_miles = ###\n",
    "\n",
    "print(miles, \"miles is\", round(miles_to_kilometers, 2), \"kilometers\")\n",
    "print(kilometers, \"kilometers is\", round(kilometers_to_miles, 2), \"miles\")\n",
    "# 🚨 Der Code über dieser Zeile muss erhalten bleiben 👆"
   ]
  },
  {
   "attachments": {},
   "cell_type": "markdown",
   "metadata": {},
   "source": [
    "#### **Lv 3.2 Quest 2 TwoDigitNumber**\n",
    "\n",
    "Erstellen Sie ein Programm, dass eine 2 Ziffern große Zahl entgegen nimmt,\\\n",
    "und die einzelnen Ziffern dieser Zahl miteinander addiert und ausgibt.\\\n",
    "Beispiel -> Input: 42\\\n",
    "4 + 2 = 6\\\n",
    "Ausgabe: 6"
   ]
  },
  {
   "cell_type": "code",
   "execution_count": null,
   "metadata": {},
   "outputs": [],
   "source": [
    "# 🚨 Der Code unter dieser Zeile muss erhalten bleiben 👇\n",
    "two_digit_number = input(\"Type a two digit number: \")\n",
    "# 🚨 Der Code über dieser Zeile muss erhalten bleiben 👆\n",
    "\n",
    "\n",
    "# Schreiben Sie Ihren Code unter dieser Zeile 👇"
   ]
  },
  {
   "attachments": {},
   "cell_type": "markdown",
   "metadata": {},
   "source": [
    "<div class=\"alert alert-block alert-success\">\n",
    "<b>Lösung Lv 3.2 Quest 2 TwoDigitNumber</b>\n",
    "</div>"
   ]
  },
  {
   "cell_type": "code",
   "execution_count": null,
   "metadata": {},
   "outputs": [],
   "source": [
    "# 🚨 Der Code unter dieser Zeile muss erhalten bleiben 👇\n",
    "two_digit_number = input(\"Type a two digit number: \")\n",
    "# 🚨 Der Code über dieser Zeile muss erhalten bleiben 👆\n",
    "\n",
    "####################################\n",
    "\n",
    "# Schreiben Sie Ihren Code unter dieser Zeile 👇\n",
    "num1 = int(two_digit_number[0])\n",
    "num2 = int(two_digit_number[1])\n",
    "\n",
    "num3 = num1 + num2\n",
    "\n",
    "print(num3)"
   ]
  },
  {
   "cell_type": "markdown",
   "metadata": {},
   "source": [
    "***"
   ]
  },
  {
   "attachments": {},
   "cell_type": "markdown",
   "metadata": {},
   "source": [
    "#### **Lv 3.2 Quest 3 BMI I**\n",
    "\n",
    "Write a program that calculates the Body Mass Index (BMI) from a user's weight and height.\\\n",
    "The BMI is a measure of some's weight taking into account their height.\\\n",
    "e.g. If a tall person and a short person both weigh the same amount,\\\n",
    "the short person is usually more overweight.\\\n",
    "The BMI is calculated by dividing a person's weight (in kg) by the square of their height (in m).\n",
    "\n",
    "Das Ergebnis soll auf zwei Stellen nach dem Komma gerundet werden."
   ]
  },
  {
   "cell_type": "code",
   "execution_count": null,
   "metadata": {},
   "outputs": [],
   "source": [
    "# 🚨 Der Code unter dieser Zeile muss erhalten bleiben 👇\n",
    "height = input(\"enter your height in m: \")\n",
    "weight = input(\"enter your weight in kg: \")\n",
    "# 🚨 Der Code über dieser Zeile muss erhalten bleiben 👆\n",
    "\n",
    "# 👇 Schreiben Sie Ihren Code unter dieser Zeile 👇"
   ]
  },
  {
   "attachments": {},
   "cell_type": "markdown",
   "metadata": {},
   "source": [
    "<div class=\"alert alert-block alert-success\">\n",
    "<b>Lösung Lv 3.2 Quest 3 BMI I</b>\n",
    "</div>"
   ]
  },
  {
   "cell_type": "code",
   "execution_count": 1,
   "metadata": {},
   "outputs": [
    {
     "name": "stdout",
     "output_type": "stream",
     "text": [
      "26.73\n"
     ]
    }
   ],
   "source": [
    "# 🚨 Der Code unter dieser Zeile muss erhalten bleiben 👇\n",
    "height = input(\"enter your height in m: \")\n",
    "weight = input(\"enter your weight in kg: \")\n",
    "# 🚨 Der Code über dieser Zeile muss erhalten bleiben 👆\n",
    "\n",
    "# 👇 Schreiben Sie Ihren Code unter dieser Zeile 👇\n",
    "height = float(height)\n",
    "weight = float(weight)\n",
    "\n",
    "bmi = weight / height**2\n",
    "# BMI = int(BMI)\n",
    "# print(8 // 3) # FloorDivision gibt immer einen INT zurück\n",
    "bmi = round(bmi, 2)  # round(8 / 3, Anzahl der Digits)\n",
    "\n",
    "print(bmi)"
   ]
  },
  {
   "cell_type": "markdown",
   "metadata": {},
   "source": [
    "***"
   ]
  },
  {
   "attachments": {},
   "cell_type": "markdown",
   "metadata": {},
   "source": [
    "#### **Lv 3.2 Quest 4 Live in Weeks**\n",
    "\n",
    "Create a program using maths and f-Strings that tells us how many days, weeks, months\\\n",
    "we have left if we live until 90 years old.\\\n",
    "It will take your current age as the input and output a message with our time left in this format:\\\n",
    "You have x days, y weeks or z months left.\\\n",
    "Where x, y and z are replaced with the actual calculated numbers."
   ]
  },
  {
   "cell_type": "code",
   "execution_count": null,
   "metadata": {},
   "outputs": [],
   "source": [
    "# 🚨 Der Code unter dieser Zeile muss erhalten bleiben 👇\n",
    "age = input(\"What is your current age?\")\n",
    "# 🚨 Der Code über dieser Zeile muss erhalten bleiben 👆\n",
    "\n",
    "# 👇 Schreiben Sie Ihren Code unter dieser Zeile 👇"
   ]
  },
  {
   "attachments": {},
   "cell_type": "markdown",
   "metadata": {},
   "source": [
    "<div class=\"alert alert-block alert-success\">\n",
    "<b>Lösung Lv 3.2 Quest 4 Live in Weeks</b>\n",
    "</div>"
   ]
  },
  {
   "cell_type": "code",
   "execution_count": null,
   "metadata": {},
   "outputs": [],
   "source": [
    "# 🚨 Der Code unter dieser Zeile muss erhalten bleiben 👇\n",
    "age = input(\"Wie lautet Ihr aktuelles Alter?\")\n",
    "# 🚨 Der Code über dieser Zeile muss erhalten bleiben 👆\n",
    "\n",
    "# Schreiben Sie Ihren Code unter dieser Zeile 👇\n",
    "trueAge = int(age)\n",
    "yearsLeft = 90 - trueAge\n",
    "\n",
    "monthLeft = yearsLeft * 12\n",
    "\n",
    "weeksLeft = yearsLeft * 52\n",
    "\n",
    "daysLeft = yearsLeft * 365\n",
    "\n",
    "print(f\"Sie haben {daysLeft} Tage, {weeksLeft} Wochen oder {monthLeft} Monate übrig.\")"
   ]
  },
  {
   "cell_type": "markdown",
   "metadata": {},
   "source": [
    "***"
   ]
  },
  {
   "attachments": {},
   "cell_type": "markdown",
   "metadata": {},
   "source": [
    "#### **Lv 3.2 Quest 5 Calculation**\n",
    "\n",
    "Sehen Sie sich den Code im Editor an: Er liest einen Float-Wert ein,\\\n",
    "setzt ihn in eine Variable namens x und gibt den Wert einer Variablen namens y aus.\\\n",
    "Ihre Aufgabe ist es, den Code so zu vervollständigen,\\\n",
    "dass der folgende Ausdruck ausgewertet werden kann.\n",
    "\n",
    "3x³ - 2x² + 3x - 1\n",
    "\n",
    "Das Ergebnis soll der Variable y zugewiesen werden."
   ]
  },
  {
   "cell_type": "code",
   "execution_count": null,
   "metadata": {},
   "outputs": [],
   "source": [
    "# 👇 Möglicher Input 👇\n",
    "x = 0\n",
    "x = 1\n",
    "x = -1\n",
    "\n",
    "x =  # hardcode your test data here\n",
    "x = float(x)\n",
    "# write your code here\n",
    "print(\"y =\", y)"
   ]
  },
  {
   "cell_type": "markdown",
   "metadata": {},
   "source": [
    "<div class=\"alert alert-block alert-success\">\n",
    "<b>Lösung Lv 3.2 Quest 5 Calculation</b>\n",
    "</div>"
   ]
  },
  {
   "cell_type": "code",
   "execution_count": null,
   "metadata": {},
   "outputs": [],
   "source": [
    "# 👇 Möglicher Input 👇\n",
    "x = 0\n",
    "x = 1\n",
    "x = -1\n",
    "\n",
    "y =  # hardcode your test data here\n",
    "y = float(x)\n",
    "# write your code here\n",
    "print(\"y =\", y)"
   ]
  },
  {
   "cell_type": "markdown",
   "metadata": {},
   "source": [
    "***"
   ]
  },
  {
   "attachments": {},
   "cell_type": "markdown",
   "metadata": {},
   "source": [
    "#### **Übung auf dem Tablet oder an der Tafel**\n",
    "Schauen Sie sich die folgenden Zeilen an und überlegen Sie, wie die dazugehörige Ausgabe aussehen könnte."
   ]
  },
  {
   "cell_type": "code",
   "execution_count": null,
   "metadata": {},
   "outputs": [],
   "source": [
    "print((2 ** 4), (2 * 4.), (2 * 4))\n",
    "print((-2 / 4), (2 / 4), (2 // 4), (-2 // 4))\n",
    "print((2 % -4), (2 % 4), (2 ** 3 ** 2))"
   ]
  },
  {
   "cell_type": "markdown",
   "metadata": {},
   "source": [
    "***"
   ]
  },
  {
   "attachments": {
    "image.png": {
     "image/png": "[encoded data removed]"
    }
   },
   "cell_type": "markdown",
   "metadata": {},
   "source": [
    "#### **Übung**\n",
    "![image.png](attachment:image.png)"
   ]
  },
  {
   "cell_type": "markdown",
   "metadata": {},
   "source": [
    "<div class=\"alert alert-block alert-success\">\n",
    "<b>Lösung 3.2 Übung</b>\n",
    "</div>"
   ]
  },
  {
   "cell_type": "code",
   "execution_count": null,
   "metadata": {},
   "outputs": [],
   "source": [
    "x = float(input(\"Enter value for x: \"))\n",
    "\n",
    "# Write your Code here\n",
    "# y =  1 /(x+ (1/(x + (1/(x+(1/x))))))\n",
    "\n",
    "print(\"y =\", y)\n",
    "\n",
    "# Testinputs\n",
    "# x = 1 => y = 0.6000000000000001\n",
    "# x = 10 => y = 0.09901951266867294"
   ]
  },
  {
   "cell_type": "markdown",
   "metadata": {},
   "source": [
    "***"
   ]
  },
  {
   "attachments": {},
   "cell_type": "markdown",
   "metadata": {},
   "source": [
    "## **Modulo %**"
   ]
  },
  {
   "cell_type": "code",
   "execution_count": null,
   "metadata": {},
   "outputs": [],
   "source": [
    "der_rest_einer_division = 6 % 5\n",
    "print(der_rest_einer_division)\n",
    "print(14 % 4)\n",
    "\n",
    "# 14 // 4 gives 3 → this is the integer quotient;\n",
    "# 3 * 4 gives 12 → as a result of quotient and divisor multiplication\n",
    "# 14 - 12 gives 2 → this is the remainder\n",
    "# ! keine Division durch 0 !"
   ]
  },
  {
   "cell_type": "markdown",
   "metadata": {},
   "source": [
    "***"
   ]
  },
  {
   "attachments": {
    "image-3.png": {
     "image/png": "[encoded data removed]"
    }
   },
   "cell_type": "markdown",
   "metadata": {},
   "source": [
    "![image-3.png](attachment:image-3.png)"
   ]
  },
  {
   "cell_type": "markdown",
   "metadata": {},
   "source": [
    "<div class=\"alert alert-block alert-info\">\n",
    "<b>Project Tip Calculator</b>\n",
    "</div>"
   ]
  }
 ],
 "metadata": {
  "kernelspec": {
   "display_name": "Python 3",
   "language": "python",
   "name": "python3"
  },
  "language_info": {
   "codemirror_mode": {
    "name": "ipython",
    "version": 3
   },
   "file_extension": ".py",
   "mimetype": "text/x-python",
   "name": "python",
   "nbconvert_exporter": "python",
   "pygments_lexer": "ipython3",
   "version": "3.12.0"
  },
  "orig_nbformat": 4,
  "vscode": {
   "interpreter": {
    "hash": "199d4d96980d3c77fd685aeae9f69782f382d18d101d3d05db881b6799e10f7f"
   }
  }
 },
 "nbformat": 4,
 "nbformat_minor": 2
}
