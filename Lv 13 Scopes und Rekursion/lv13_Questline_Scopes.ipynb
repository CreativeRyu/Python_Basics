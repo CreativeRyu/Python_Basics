{
 "cells": [
  {
   "cell_type": "markdown",
   "metadata": {},
   "source": [
    "# **Lv 13 Questline Scopes**"
   ]
  },
  {
   "cell_type": "code",
   "execution_count": 1,
   "metadata": {},
   "outputs": [
    {
     "name": "stdout",
     "output_type": "stream",
     "text": [
      "enemies inside function: 2\n",
      "enemies outside function: 1\n"
     ]
    }
   ],
   "source": [
    "\n",
    "enemies = 1\n",
    "\n",
    "def increase_enemies():\n",
    "    enemies = 2\n",
    "    print(f\"enemies inside function: {enemies}\")\n",
    "    # Was wird hier ausgegeben?\n",
    "\n",
    "increase_enemies()\n",
    "print(f\"enemies outside function: {enemies}\")\n",
    "# und was wird hier ausgegeben?\n",
    "\n",
    "# Änderung der Variable innerhalb der Funktion hat keine Auswirkung auf die Variable außerhalb\n",
    "# zwei unterschiedliche Variablen"
   ]
  },
  {
   "cell_type": "markdown",
   "metadata": {},
   "source": [
    "***"
   ]
  },
  {
   "cell_type": "markdown",
   "metadata": {},
   "source": [
    "## **Local Scope**"
   ]
  },
  {
   "cell_type": "code",
   "execution_count": 4,
   "metadata": {},
   "outputs": [
    {
     "name": "stdout",
     "output_type": "stream",
     "text": [
      "2\n"
     ]
    }
   ],
   "source": [
    "def drink_potion():\n",
    "    potion_strength = 2\n",
    "    print(potion_strength)\n",
    "\n",
    "\n",
    "drink_potion()\n",
    "# Variable nicht außerhalb des Scopes verfügbar\n",
    "# print(potion_strength)"
   ]
  },
  {
   "cell_type": "markdown",
   "metadata": {},
   "source": [
    "***"
   ]
  },
  {
   "cell_type": "markdown",
   "metadata": {},
   "source": [
    "## **Global Scope**"
   ]
  },
  {
   "cell_type": "code",
   "execution_count": 5,
   "metadata": {},
   "outputs": [
    {
     "name": "stdout",
     "output_type": "stream",
     "text": [
      "10\n"
     ]
    }
   ],
   "source": [
    "# Hier wird keine weitere Variable innerhalb der Funktion deklariert\n",
    "# Dadurch weiß Python, dass es sich auf die globale Variable player_health bezieht\n",
    "player_health = 10\n",
    "\n",
    "def show_player_health():\n",
    "    print(player_health)\n",
    "\n",
    "show_player_health()"
   ]
  },
  {
   "cell_type": "code",
   "execution_count": null,
   "metadata": {},
   "outputs": [],
   "source": [
    "def increase_global_enemies():\n",
    "    global enemies  # ist möglich, sollte aber tunlichst vermieden werden\n",
    "    enemies += 1\n",
    "    print(f\"enemies inside function: {enemies}\")\n",
    "\n",
    "\n",
    "increase_global_enemies()\n",
    "print(f\"enemies outside function: {enemies}\")"
   ]
  },
  {
   "cell_type": "markdown",
   "metadata": {},
   "source": [
    "***"
   ]
  },
  {
   "cell_type": "code",
   "execution_count": 6,
   "metadata": {},
   "outputs": [
    {
     "name": "stdout",
     "output_type": "stream",
     "text": [
      "enemies inside function: 1\n"
     ]
    }
   ],
   "source": [
    "def increase_returned_enemies():\n",
    "    print(f\"enemies inside function: {enemies}\")\n",
    "    return enemies + 1\n",
    "\n",
    "enemies = increase_returned_enemies()"
   ]
  },
  {
   "cell_type": "markdown",
   "metadata": {},
   "source": [
    "### **Weitere Beispiele**"
   ]
  },
  {
   "cell_type": "code",
   "execution_count": null,
   "metadata": {},
   "outputs": [],
   "source": [
    "# Beispiel 1\n",
    "def spam_global():\n",
    "    print(eggs)\n",
    "eggs = 10 # globale Variablen Definition\n",
    "\n",
    "spam_global()"
   ]
  },
  {
   "cell_type": "code",
   "execution_count": null,
   "metadata": {},
   "outputs": [],
   "source": [
    "# Beispiel 2\n",
    "def spam_local():\n",
    "    print(eggs)\n",
    "    eggs = 42\n",
    "eggs = 10\n",
    "\n",
    "spam_local()"
   ]
  },
  {
   "cell_type": "code",
   "execution_count": 8,
   "metadata": {},
   "outputs": [],
   "source": [
    "def spam_chaos():\n",
    "    global eggs\n",
    "    eggs = 43"
   ]
  }
 ],
 "metadata": {
  "kernelspec": {
   "display_name": "Python 3",
   "language": "python",
   "name": "python3"
  },
  "language_info": {
   "codemirror_mode": {
    "name": "ipython",
    "version": 3
   },
   "file_extension": ".py",
   "mimetype": "text/x-python",
   "name": "python",
   "nbconvert_exporter": "python",
   "pygments_lexer": "ipython3",
   "version": "3.10.2"
  }
 },
 "nbformat": 4,
 "nbformat_minor": 2
}
