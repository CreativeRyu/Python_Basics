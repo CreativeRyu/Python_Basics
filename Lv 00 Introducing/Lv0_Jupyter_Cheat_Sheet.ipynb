{
 "cells": [
  {
   "cell_type": "markdown",
   "metadata": {},
   "source": [
    "#### Headers\n",
    "\n",
    "# Header 1\n",
    "## Header 2\n",
    "### Header 3\n",
    "#### Header 4\n",
    "##### Header 5\n",
    "###### Header 6\n",
    "\n",
    "***\n",
    "\n",
    "#### Styles\n",
    "\n",
    "*Italic*, **bold**, _underscore_, ~~strikethrough~~  \n",
    "\n",
    "***\n",
    "\n",
    "#### Hyperlink\n",
    "\n",
    "[hyperlink](https://www.markdownguide.org/)\n",
    "\n",
    "***\n",
    "\n",
    "#### Table\n",
    "\n",
    "A table can be constructed using | (pipe symbol) and — (dash) to mark columns and rows.\\\n",
    "For manually changing the justification, you can use:\\\n",
    "Use :-: for centered\\\n",
    "Use — for right centered\\\n",
    "Use :- for left centered\n",
    "\n",
    "| Default | Left-aligned | Center-aligned | Right-aligned |\n",
    "|---------|:-------------|:--------------:|--------------:|\n",
    "| Default | Left | Center | Right |\n",
    "\n",
    "***\n",
    "\n",
    "#### Others\n",
    "\n",
    "* Bulleted item 1\n",
    "    * Bulleted subitem 1\n",
    "- Bulleted item 2***\n",
    "1. Ordered item 1  \n",
    "    1.1. Ordered subitem 1  \n",
    "2. Ordered item 2***\n",
    "- [ ] Unchecked box\n",
    "- [x] Checked box"
   ]
  },
  {
   "cell_type": "markdown",
   "metadata": {},
   "source": [
    "***"
   ]
  },
  {
   "cell_type": "markdown",
   "metadata": {},
   "source": [
    "> some text\n",
    ">> and then some more text\n",
    ">>> and then some more text"
   ]
  },
  {
   "cell_type": "markdown",
   "metadata": {},
   "source": [
    "## Simple alerts\n",
    "\n",
    "> [!Note]\n",
    "> This is a note\n",
    "\n",
    "> [!TIP]  \n",
    "> This is a tip. (Supported since 14 Nov 2023)\n",
    "\n",
    "> [!IMPORTANT]\n",
    "> Crutial information comes here.\n",
    "\n",
    "> [!CAUTION]\n",
    "> Negative potential consequences of an action. (Supported since 14 Nov 2023)\n",
    "\n",
    "> [!WARNING]\n",
    "> Critical content comes here.\n",
    "\n"
   ]
  },
  {
   "cell_type": "markdown",
   "metadata": {},
   "source": [
    "___"
   ]
  },
  {
   "cell_type": "markdown",
   "metadata": {},
   "source": [
    "#### Colorizing\n",
    "\n",
    "# <span style=\"color:greenyellow\">Header</span> 1"
   ]
  },
  {
   "cell_type": "markdown",
   "metadata": {},
   "source": [
    "***"
   ]
  },
  {
   "cell_type": "markdown",
   "metadata": {},
   "source": [
    "#### Cell Background Color\n",
    "\n",
    "<p style=\"background:black\">\n",
    "<code style=\"background:black;color:white\">C:\\Users\\YOUR_USERNAME> py -m pip install pygame\n",
    "</code>\n",
    "</p>"
   ]
  },
  {
   "cell_type": "markdown",
   "metadata": {},
   "source": [
    "***"
   ]
  },
  {
   "cell_type": "markdown",
   "metadata": {},
   "source": [
    "#### LaTex Formeln\n",
    "\n",
    "$\\sqrt{k}$"
   ]
  },
  {
   "cell_type": "markdown",
   "metadata": {},
   "source": [
    "***"
   ]
  },
  {
   "cell_type": "markdown",
   "metadata": {},
   "source": [
    "\n",
    "<iframe width=\"560\" height=\"315\" src=\"https://www.youtube.com/embed/olKjeHdOW3Y?si=ZJ-Z0y6VSveRplmd\" title=\"YouTube video player\" frameborder=\"0\" allow=\"accelerometer; autoplay; clipboard-write; encrypted-media; gyroscope; picture-in-picture; web-share\" allowfullscreen></iframe>"
   ]
  }
 ],
 "metadata": {
  "language_info": {
   "name": "python"
  }
 },
 "nbformat": 4,
 "nbformat_minor": 2
}
