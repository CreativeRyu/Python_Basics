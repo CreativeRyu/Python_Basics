{
 "cells": [
  {
   "attachments": {},
   "cell_type": "markdown",
   "metadata": {},
   "source": [
    "# **Lv 1.5 Questline Variablen**"
   ]
  },
  {
   "cell_type": "code",
   "execution_count": 1,
   "metadata": {},
   "outputs": [
    {
     "name": "stdout",
     "output_type": "stream",
     "text": [
      "Hello Ryu how is your day?\n",
      "3\n",
      "4\n",
      "4\n",
      "83\n",
      "160\n"
     ]
    }
   ],
   "source": [
    "# Variable      # Literal\n",
    "name = input(\"What is your name? \")\n",
    "print(\"Hello \" + name + \" how is your day?\")\n",
    "length = len(name)\n",
    "print(length)\n",
    "irgendeine_zahl = 4 # Zuweisung eines Literals\n",
    "print(irgendeine_zahl)\n",
    "print(4)\n",
    "eine_große_zahl = 111_111_111\n",
    "print(0o123)\n",
    "print(0xA0)"
   ]
  },
  {
   "attachments": {},
   "cell_type": "markdown",
   "metadata": {},
   "source": [
    "## **Regeln zur Erstellung von Variablen**"
   ]
  },
  {
   "cell_type": "code",
   "execution_count": null,
   "metadata": {},
   "outputs": [],
   "source": [
    "#$wort = \"Vorsicht\"\n",
    "#1wort =\"Nope\"\n",
    "#wort_zwei \"wortZwei\"\n",
    "#Wort-drei = \"WortDrei\"\n",
    "#Adiós_Señorita\n",
    "#sûr_la_mer\n",
    "#Einbahnstraße\n",
    "#переменная"
   ]
  },
  {
   "attachments": {},
   "cell_type": "markdown",
   "metadata": {},
   "source": [
    "**Der Wert in einer Variable kann jeder Zeit durch einen neuen Wert Überschrieben werden.**"
   ]
  },
  {
   "cell_type": "code",
   "execution_count": null,
   "metadata": {},
   "outputs": [],
   "source": [
    "var = 1\n",
    "var = var + 1 # Ergebnis des Ausdrucks wird in die Variablenbox gelegt\n",
    "# var += 1\n",
    "# var -= 1\n",
    "# var *= 1\n",
    "# var /= 1\n",
    "# var **= 1"
   ]
  },
  {
   "attachments": {},
   "cell_type": "markdown",
   "metadata": {},
   "source": [
    "### **Zugriff auf Variablen | Slicing von Strings**"
   ]
  },
  {
   "cell_type": "code",
   "execution_count": 1,
   "metadata": {},
   "outputs": [
    {
     "name": "stdout",
     "output_type": "stream",
     "text": [
      "Kampf\n",
      "Kampf\n",
      "Schrippe\n"
     ]
    }
   ],
   "source": [
    "printString = \"Kampfschrippe\"\n",
    "\n",
    "print(printString[0:5])\n",
    "print(printString[:5])\n",
    "print(printString[5:].capitalize())"
   ]
  },
  {
   "attachments": {},
   "cell_type": "markdown",
   "metadata": {},
   "source": [
    "#### **Level 1.5 Quest 1 Rechnen mit Variablen**\n",
    "\n",
    "Welche Ausgabe generiert das folgende Code Snippet?"
   ]
  },
  {
   "cell_type": "code",
   "execution_count": null,
   "metadata": {},
   "outputs": [],
   "source": [
    "a = 3.0\n",
    "b = 4.0\n",
    "c = (a ** 2 + b ** 2) ** 0.5\n",
    "print(\"c =\", c)\n",
    "\n",
    "# => und warum ** 0.5"
   ]
  },
  {
   "attachments": {},
   "cell_type": "markdown",
   "metadata": {},
   "source": [
    "#### **Lv 1.5 Quest 2 Short Story**\n",
    "\n",
    "Hier ist eine kurze Geschichte:\n",
    "\n",
    "Es war einmal im Apfelland, da hatte John drei Äpfel, \n",
    "Mary hatte fünf Äpfel und Adam hatte sechs Äpfel. \n",
    "Sie waren alle sehr glücklich und lebten lange und zufrieden bis ans Ende ihrer Zeit. \n",
    " \n",
    "Ende der Geschichte.\n",
    "\n",
    "1. Erstellen Sie die Variablen: john, mary und adam;\n",
    "2. Weisen Sie den Variablen Werte zu. Die Werte müssen gleich der Anzahl der Früchte sein, die John, Mary bzw. Adam besitzen;\n",
    "3. Nachdem Sie die Zahlen in den Variablen gespeichert haben, geben Sie die Variablen in einer Zeile aus und trennen sie jeweils durch ein Komma;\n",
    "4. Erstellen Sie nun eine neue Variable mit dem Namen total_apples, die der Summe der drei vorherigen Variablen entspricht.\n",
    "5. Geben Sie den in total_apples gespeicherten Wert auf der Konsole aus;\n",
    "6. Experimentieren Sie mit Ihrem Code: Erstellen Sie neue Variablen, weisen Sie ihnen verschiedene Werte zu und führen Sie verschiedene mathematische Operationen mit ihnen durch (z.B. +, -, *, /, //, usw.). \n",
    "Versuchen Sie, einen String und eine ganze Zahl zusammen in einer Zeile auszugeben, z. B. \"Gesamtzahl der Äpfel:\" und total_apples."
   ]
  },
  {
   "attachments": {},
   "cell_type": "markdown",
   "metadata": {},
   "source": [
    "#### **Lösung Level 1.5 Quest 2 Short Story**"
   ]
  },
  {
   "cell_type": "code",
   "execution_count": 4,
   "metadata": {},
   "outputs": [
    {
     "name": "stdout",
     "output_type": "stream",
     "text": [
      "3, 5, 6\n",
      "14\n"
     ]
    }
   ],
   "source": [
    "john = 3\n",
    "mary = 5\n",
    "adam = 6\n",
    "\n",
    "print(john, mary, adam, sep=\", \")\n",
    "total_apples = john + mary + adam\n",
    "print(total_apples)"
   ]
  },
  {
   "attachments": {},
   "cell_type": "markdown",
   "metadata": {},
   "source": [
    "#### **Lv 1.5 Quest 3 Variablen Tauschen**\n",
    "Schreiben Sie ein Programm, dass die Werte in den Variablen a und b tauscht."
   ]
  },
  {
   "cell_type": "code",
   "execution_count": null,
   "metadata": {},
   "outputs": [],
   "source": [
    "# 🚨 Der Code unter dieser Zeile muss erhalten bleiben 👇\n",
    "a = input(\"a: \")\n",
    "b = input(\"b: \")\n",
    "# 🚨 Der Code über dieser Zeile muss erhalten bleiben 👆\n",
    "\n",
    "####################################\n",
    "# Schreiben Sie Ihren Code unter dieser Zeile 👇\n",
    "\n",
    "# Schreiben Sie Ihren Code über dieser Zeile 👆\n",
    "####################################\n",
    "\n",
    "# 🚨 Der Code über dieser Zeile muss erhalten bleiben 👇\n",
    "print(\"a: \" + a)\n",
    "print(\"b: \" + b)"
   ]
  },
  {
   "attachments": {},
   "cell_type": "markdown",
   "metadata": {},
   "source": [
    "#### **Lösung Lv 1.5 Quest 3 Variablen Tauschen**"
   ]
  },
  {
   "cell_type": "code",
   "execution_count": 2,
   "metadata": {},
   "outputs": [
    {
     "name": "stdout",
     "output_type": "stream",
     "text": [
      "a: 4\n",
      "b: 3\n"
     ]
    }
   ],
   "source": [
    "# 🚨 Der Code unter dieser Zeile muss erhalten bleiben 👇\n",
    "a = input(\"a: \")\n",
    "b = input(\"b: \")\n",
    "# 🚨 Der Code über dieser Zeile muss erhalten bleiben 👆\n",
    "\n",
    "####################################\n",
    "# Schreiben Sie Ihren Code unter dieser Zeile 👇\n",
    "c = a\n",
    "a = b\n",
    "b = c\n",
    "# Schreiben Sie Ihren Code über dieser Zeile 👆\n",
    "####################################\n",
    "\n",
    "# 🚨 Der Code über dieser Zeile muss erhalten bleiben 👇\n",
    "print(\"a: \" + a)\n",
    "print(\"b: \" + b)"
   ]
  },
  {
   "attachments": {},
   "cell_type": "markdown",
   "metadata": {},
   "source": [
    "#### **Lv 1.5 Quest Quest 4 Konvertierung**\n",
    "Meilen und Kilometer sind Einheiten der Länge oder Entfernung.\n",
    "Berücksichtigen Sie, dass 1 Meile etwa 1,61 Kilometern entspricht\n",
    "und vervollständigen Sie das Programm im Editor so, dass es die Maßeinheiten konvertiert.\n",
    "\n",
    "Meilen in Kilometer;\n",
    "Kilometer in Meilen.\n",
    "\n",
    "Ändern Sie nichts an dem bestehenden Code. \n",
    "Schreiben Sie Ihren Code an den mit ### gekennzeichneten Stellen. \n",
    "Testen Sie Ihr Programm mit den Daten, die im Quellcode angegeben sind."
   ]
  },
  {
   "cell_type": "code",
   "execution_count": null,
   "metadata": {},
   "outputs": [],
   "source": [
    "# 🚨 Der Code unter dieser Zeile muss erhalten bleiben 👇\n",
    "kilometers = 12.25\n",
    "miles = 7.38\n",
    "\n",
    "miles_to_kilometers = ###\n",
    "kilometers_to_miles = ###\n",
    "\n",
    "print(miles, \"miles is\", round(miles_to_kilometers, 2), \"kilometers\")\n",
    "print(kilometers, \"kilometers is\", round(kilometers_to_miles, 2), \"miles\")\n",
    "# 🚨 Der Code über dieser Zeile muss erhalten bleiben 👆"
   ]
  },
  {
   "attachments": {},
   "cell_type": "markdown",
   "metadata": {},
   "source": [
    "#### **Lösung Lv 1.5 Quest 4 Konvertierung**"
   ]
  },
  {
   "cell_type": "code",
   "execution_count": null,
   "metadata": {},
   "outputs": [],
   "source": []
  }
 ],
 "metadata": {
  "kernelspec": {
   "display_name": "Python 3",
   "language": "python",
   "name": "python3"
  },
  "language_info": {
   "codemirror_mode": {
    "name": "ipython",
    "version": 3
   },
   "file_extension": ".py",
   "mimetype": "text/x-python",
   "name": "python",
   "nbconvert_exporter": "python",
   "pygments_lexer": "ipython3",
   "version": "3.10.2"
  },
  "orig_nbformat": 4,
  "vscode": {
   "interpreter": {
    "hash": "199d4d96980d3c77fd685aeae9f69782f382d18d101d3d05db881b6799e10f7f"
   }
  }
 },
 "nbformat": 4,
 "nbformat_minor": 2
}
