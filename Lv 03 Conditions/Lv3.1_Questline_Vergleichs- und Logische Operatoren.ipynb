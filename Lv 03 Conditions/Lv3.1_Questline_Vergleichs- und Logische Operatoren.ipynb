{
 "cells": [
  {
   "attachments": {},
   "cell_type": "markdown",
   "metadata": {},
   "source": [
    "# **Level 3.1 Questline Operatoren**"
   ]
  },
  {
   "attachments": {},
   "cell_type": "markdown",
   "metadata": {},
   "source": [
    "## **Vergleichsoperatoren | Binary Operator**\n",
    "binary Operators using left-sided binding"
   ]
  },
  {
   "cell_type": "code",
   "execution_count": null,
   "metadata": {},
   "outputs": [],
   "source": [
    "# <             Kleiner als\n",
    "# >             Größer als\n",
    "# <=            Kleiner gleich\n",
    "# >=            Größer gleich\n",
    "# ==            ist gleich\n",
    "# !=            ist ungleich\n",
    "# <<, >>        Bitweise Verschiebung\n",
    "# ^=, |=, >>=, <<=\n",
    "\n",
    "# Beispiele\n",
    "7 == 7  # True\n",
    "7 == 7. # True\n",
    "7 == 14 # False\n",
    "\n",
    "var = 0\n",
    "print(var == 0)\n",
    "print(var != 0)\n",
    "\n",
    "var = 1\n",
    "print(var == 0)\n",
    "print(var != 0)"
   ]
  },
  {
   "attachments": {},
   "cell_type": "markdown",
   "metadata": {},
   "source": [
    "### **Beispiele**\n",
    "Stellen Sie sich nun einen Programmierer vor,\\\n",
    "der an Schlaflosigkeit leidet und schwarze und weiße Schafe getrennt zählen muss,\\\n",
    "solange es genau doppelt so viele schwarze wie weiße Schafe gibt."
   ]
  },
  {
   "cell_type": "code",
   "execution_count": null,
   "metadata": {},
   "outputs": [],
   "source": [
    "black_sheeps = 1\n",
    "white_sheeps = 1\n",
    "\n",
    "black_sheeps == 2 * white_sheeps\n",
    "\n",
    "# Wenn ich beispielsweise wissen will ob es mehr schwarze Schafe als weiße gibt\n",
    "print(black_sheeps > white_sheeps)"
   ]
  },
  {
   "attachments": {},
   "cell_type": "markdown",
   "metadata": {},
   "source": [
    "**Muss ich mich warm anziehen?**"
   ]
  },
  {
   "cell_type": "code",
   "execution_count": null,
   "metadata": {},
   "outputs": [],
   "source": [
    "grad_celsius_outside = 3\n",
    "\n",
    "print(grad_celsius_outside >= 0.0)  # Greater than or equal to"
   ]
  },
  {
   "attachments": {},
   "cell_type": "markdown",
   "metadata": {},
   "source": [
    "**Wird der Blitzer ausgelöst?**\\\n",
    "**Ergebnisse aus einem Vergleich können in Variablen gespeichert werden**"
   ]
  },
  {
   "cell_type": "code",
   "execution_count": null,
   "metadata": {},
   "outputs": [],
   "source": [
    "current_velocity_kmh = 90\n",
    "\n",
    "# currently_velocity_kmh < 85\n",
    "result = current_velocity_kmh >= 85\n",
    "print(result)\n",
    "print(\"Ja der Blitzer wird ausgelöst.\")"
   ]
  },
  {
   "attachments": {},
   "cell_type": "markdown",
   "metadata": {},
   "source": [
    "#### **Lv 3 Training 1**\n",
    "Schreiben Sie unter Verwendung eines der Vergleichsoperatoren ein einfaches zweizeiliges Programm,\\\n",
    "das den Parameter n, der eine ganze Zahl ist, als Eingabe erhält und False ausgibt,\\\n",
    "wenn n kleiner als 100 ist, und True, wenn n größer oder gleich 100 ist."
   ]
  },
  {
   "cell_type": "code",
   "execution_count": null,
   "metadata": {},
   "outputs": [],
   "source": [
    "n = int(input(\"Gebe eine ganze Zahl ein: \"))\n",
    "print(n >= 100)"
   ]
  },
  {
   "attachments": {},
   "cell_type": "markdown",
   "metadata": {},
   "source": [
    "## **Logische Operatoren**"
   ]
  },
  {
   "cell_type": "code",
   "execution_count": null,
   "metadata": {},
   "outputs": [],
   "source": [
    "# && # and # Konjunktion\n",
    "# || # or # Disjunktion\n",
    "# not # Negation\n",
    "\n",
    "var = 1\n",
    "# Beispiel 1:\n",
    "print(var > 0)\n",
    "print(not (var <= 0))\n",
    "\n",
    "\n",
    "# Beispiel 2:\n",
    "print(var != 0)\n",
    "print(not (var == 0))"
   ]
  },
  {
   "attachments": {},
   "cell_type": "markdown",
   "metadata": {},
   "source": [
    "#### **Lv 3 Training 2**\n",
    "Welche Ausgabe wird durch das folgende Code Snippet generiert?"
   ]
  },
  {
   "cell_type": "code",
   "execution_count": 1,
   "metadata": {},
   "outputs": [
    {
     "name": "stdout",
     "output_type": "stream",
     "text": [
      "# # # # # \n",
      "\n",
      "True\n",
      "\n",
      "# # # # # \n"
     ]
    }
   ],
   "source": [
    "x = 1\n",
    "y = 0\n",
    "\n",
    "z = ((x == y) and (x == y)) or not (x == y)\n",
    "\n",
    "# Lösung\n",
    "print(5 * \"# \")\n",
    "print()\n",
    "print(z)\n",
    "print()\n",
    "print(5 * \"# \")"
   ]
  }
 ],
 "metadata": {
  "kernelspec": {
   "display_name": "Python 3",
   "language": "python",
   "name": "python3"
  },
  "language_info": {
   "codemirror_mode": {
    "name": "ipython",
    "version": 3
   },
   "file_extension": ".py",
   "mimetype": "text/x-python",
   "name": "python",
   "nbconvert_exporter": "python",
   "pygments_lexer": "ipython3",
   "version": "3.10.2"
  },
  "orig_nbformat": 4,
  "vscode": {
   "interpreter": {
    "hash": "199d4d96980d3c77fd685aeae9f69782f382d18d101d3d05db881b6799e10f7f"
   }
  }
 },
 "nbformat": 4,
 "nbformat_minor": 2
}
