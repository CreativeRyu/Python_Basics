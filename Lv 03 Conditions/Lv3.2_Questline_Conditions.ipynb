{
 "cells": [
  {
   "attachments": {},
   "cell_type": "markdown",
   "metadata": {},
   "source": [
    "# **Level 3.2 Questline Conditions | Bedingungen**\n",
    "In real life, we often express a desire:\\\n",
    "if the weather is good, we'll go for a walk\\\n",
    "then, we'll have lunch."
   ]
  },
  {
   "cell_type": "code",
   "execution_count": null,
   "metadata": {},
   "outputs": [],
   "source": [
    "weather_is_good = True\n",
    "def go_for_a_walk():\n",
    "    pass\n",
    "def have_lunch():\n",
    "    pass\n",
    "def get_coffee():\n",
    "    pass\n",
    "\n",
    "if weather_is_good:\n",
    "    go_for_a_walk()  # <- Weitere Funktionen können unter einer if Bedingung ausgeführt werden. zB get_drink()\n",
    "have_lunch()\n",
    "\n",
    "if weather_is_good:\n",
    "    go_for_a_walk()\n",
    "else:\n",
    "    get_coffee()\n",
    "have_lunch()"
   ]
  },
  {
   "attachments": {},
   "cell_type": "markdown",
   "metadata": {},
   "source": [
    "#### **Lv 3 Training 2 Conditions Achterbahn**"
   ]
  },
  {
   "cell_type": "code",
   "execution_count": 3,
   "metadata": {},
   "outputs": [
    {
     "name": "stdout",
     "output_type": "stream",
     "text": [
      "Willkommen in der Achterbahn.\n",
      "Du bist groß genug und darfst mit der Achterbahn fahren.\n"
     ]
    }
   ],
   "source": [
    "print(\"Willkommen in der Achterbahn.\")\n",
    "height = input(\"Bitte nenne mir deine Größe\\nGib deine Größe in cm an.\\n\")\n",
    "height = int(height)\n",
    "\n",
    "if height > 120:\n",
    "    print(\"Du bist groß genug und darfst mit der Achterbahn fahren.\")\n",
    "else:\n",
    "    print(\"Du musst leider noch etwas wachsen.\")"
   ]
  },
  {
   "attachments": {},
   "cell_type": "markdown",
   "metadata": {},
   "source": [
    "#### **Lv 3 Mehrfachverzweigung**\n",
    "nur eine Bedingung wird überprüft"
   ]
  },
  {
   "cell_type": "code",
   "execution_count": 11,
   "metadata": {},
   "outputs": [
    {
     "name": "stdout",
     "output_type": "stream",
     "text": [
      "# # # # Mehrfachverzweigung eine Bedingung # # # #\n",
      "Du bist groß genug und darfst mit der Achterbahn fahren.\n"
     ]
    }
   ],
   "source": [
    "print(\"# # # # Mehrfachverzweigung eine Bedingung # # # #\")\n",
    "height = int(input(\"Bitte nenne mir deine Größe\\nGib deine Größe in cm an.\\n\"))\n",
    "\n",
    "if height >= 120:\n",
    "    print(\"Du bist groß genug und darfst mit der Achterbahn fahren.\")\n",
    "elif height == 140:\n",
    "    print(\"Uh du bist aber schon groß.\")\n",
    "else:\n",
    "    print(\"Du musst leider noch etwas wachsen.\")"
   ]
  },
  {
   "attachments": {},
   "cell_type": "markdown",
   "metadata": {},
   "source": [
    "alle Bedingungen werden geprüft"
   ]
  },
  {
   "cell_type": "code",
   "execution_count": 8,
   "metadata": {},
   "outputs": [
    {
     "name": "stdout",
     "output_type": "stream",
     "text": [
      "# # # # Mehrfachverzweigung alle Bedingungen # # # #\n",
      "Du bist groß genug und darfst mit der Achterbahn fahren.\n",
      "Na mensch, du bist ja schon fast erwachsen.\n"
     ]
    }
   ],
   "source": [
    "print(\"# # # # Mehrfachverzweigung alle Bedingungen # # # #\")\n",
    "height = int(input(\"Bitte nenne mir deine Größe\\nGib deine Größe in cm an.\\n\"))\n",
    "\n",
    "if height >= 120:\n",
    "    print(\"Du bist groß genug und darfst mit der Achterbahn fahren.\")\n",
    "if height == 140:\n",
    "    print(\"Uh du bist aber schon groß.\")\n",
    "if height > 140:\n",
    "    print(\"Na mensch, du bist ja schon fast erwachsen.\")\n",
    "if height < 120:\n",
    "    print(\"Du musst leider noch etwas wachsen.\")"
   ]
  },
  {
   "attachments": {},
   "cell_type": "markdown",
   "metadata": {},
   "source": [
    "#### **Lv 3 Training 3 Spathiphyllum**\n",
    "Spathiphyllum, besser bekannt als Friedenslilie oder Weißsegelpflanze,\\\n",
    "ist eine der beliebtesten Zimmerpflanzen, die schädliche Giftstoffe aus der Luft filtert.\\\n",
    "Zu den Giftstoffen, die sie neutralisiert, gehören Benzol, Formaldehyd und Ammoniak.\n",
    "\n",
    "Stellen Sie sich vor, dass Ihr Computerprogramm diese Pflanzen liebt.\\\n",
    "Immer wenn es eine Eingabe in Form des Wortes Spathiphyllum erhält,\\\n",
    "schreit es unwillkürlich die folgende Zeichenkette auf die Konsole:\\\n",
    "\"Spathiphyllum ist die beste Pflanze überhaupt!\"\n",
    "\n",
    "Schreiben Sie ein Programm, das das Konzept der Verzweigung nutzt,\\\n",
    "eine Zeichenkette als Eingabe annimmt und den Satz\\\n",
    "\"Ja - Spathiphyllum ist die beste Pflanze überhaupt!\" auf dem Bildschirm ausgibt,\\\n",
    "wenn die eingegebene Zeichenkette \"Spathiphyllum\" mit einem Großbuchstaben beginnt.\n",
    "\n",
    "Das Programm soll den Satz \"Nein, ich will eine große Spathiphyllum!\" ausgeben,\\\n",
    "wenn die eingegebene Zeichenkette \"Spathiphyllum\" in Kleinbuchstaben übergeben wird.\n",
    "\n",
    "Das Programm soll \"Spathiphyllum! Nicht [input]!\" ausgeben, wenn die Zeichenkette\\\n",
    "gänzlich falsch geschrieben ist oder etwas anderes verwedendet wird."
   ]
  },
  {
   "cell_type": "code",
   "execution_count": null,
   "metadata": {},
   "outputs": [],
   "source": [
    "# Lösung\n",
    "plant_string = \"\"\n",
    "\n",
    "plant_string = input(\"Type Plant's Name: \")\n",
    "\n",
    "if plant_string == \"Spathiphyllum\":\n",
    "    print(\"Yes - Spathiphyllum is the best plant ever!\")\n",
    "elif plant_string == \"spathiphyllum\":\n",
    "    print(\"No, I want a big Spathiphyllum!\")\n",
    "else:\n",
    "    print(f\"Spathiphyllum! Not {plant_string}\")"
   ]
  },
  {
   "attachments": {},
   "cell_type": "markdown",
   "metadata": {},
   "source": [
    "#### **Lv 3 Quest 1 Odd or Even**\n",
    "Schreiben Sie ein Programm, dass eine Zahl darauf prüft ob sie gerade oder ungerade ist.\\\n",
    "Das Programm soll das Ergebnis in der Konsole ausgeben."
   ]
  },
  {
   "cell_type": "code",
   "execution_count": null,
   "metadata": {},
   "outputs": [],
   "source": [
    "# 🚨 Bitte verändern Sie nicht den Code unter dieser Zeile 👇\n",
    "number = int(input(\"Which number do you want to check? \"))\n",
    "# 🚨 Bitte verändern Sie nicht den Code über dieser Zeile 👆\n",
    "\n",
    "# Schreiben Sie Ihren Code unter diesr Zeile 👇"
   ]
  },
  {
   "attachments": {},
   "cell_type": "markdown",
   "metadata": {},
   "source": [
    "#### **Lösung Lv 3 Quest 1 Odd or Even**"
   ]
  },
  {
   "cell_type": "code",
   "execution_count": null,
   "metadata": {},
   "outputs": [],
   "source": [
    "# 🚨 Der Code unter dieser Zeile muss erhalten bleiben 👇\n",
    "number = int(input(\"Which number do you want to check? \"))\n",
    "# 🚨 Der Code über dieser Zeile muss erhalten bleiben 👆\n",
    "\n",
    "# Schreiben Sie Ihren Code unter dieser Zeile 👇\n",
    "if number % 2 == 0:\n",
    "    print(\"This is an even number\")\n",
    "elif number % 2 != 0:\n",
    "    print(\"This is an odd number\")"
   ]
  },
  {
   "attachments": {},
   "cell_type": "markdown",
   "metadata": {},
   "source": [
    "#### **Lv 3 Quest 2 BMI 2.0**\n",
    "\n",
    "Write a program that interprets the Body Mass Index (BMI) based on a user's weight and height.\\\n",
    "Schreiben Sie ein Programm, dass den BMI des Benutzenden auf der Grundlage der Höhe und des Gewichtes, interpretiert.\n",
    "\n",
    "It should tell them the interpretation of their BMI based on the BMI value.\\\n",
    "Es sollte dem Benutzenden den zugehörigen Text basierend auf dem Wert des BMI's ausgeben.\n",
    "\n",
    "    Under 18.5 they are underweight\n",
    "    Over 18.5 but below 25 they have a normal weight\n",
    "    Over 25 but below 30 they are slightly overweight\n",
    "    Over 30 but below 35 they are obese\n",
    "    Above 35 they are clinically obese."
   ]
  },
  {
   "cell_type": "code",
   "execution_count": null,
   "metadata": {},
   "outputs": [],
   "source": [
    "# 🚨 Don't change the code below 👇\n",
    "height = float(input(\"enter your height in m: \"))\n",
    "weight = float(input(\"enter your weight in kg: \"))\n",
    "# 🚨 Don't change the code above 👆"
   ]
  },
  {
   "attachments": {},
   "cell_type": "markdown",
   "metadata": {},
   "source": [
    "#### **Lösung Lv 3 Quest 2 BMI 2.0**"
   ]
  },
  {
   "cell_type": "code",
   "execution_count": null,
   "metadata": {},
   "outputs": [],
   "source": [
    "# 🚨 Don't change the code below 👇\n",
    "height = float(input(\"enter your height in m: \"))\n",
    "weight = float(input(\"enter your weight in kg: \"))\n",
    "# 🚨 Don't change the code above 👆\n",
    "\n",
    "#Write your code below this line 👇\n",
    "\n",
    "bmi = round(weight / height**2)\n",
    "\n",
    "if bmi <= 18.5:\n",
    "    print(f\"Your BMI is {bmi}, you are underweight.\")\n",
    "elif bmi > 18.5 and bmi <= 25:\n",
    "    print(f\"Your BMI is {bmi}, you have a normal weight.\")\n",
    "elif bmi > 25 and bmi <= 30 :\n",
    "    print(f\"Your BMI is {bmi}, you are slightly overweight.\")\n",
    "elif bmi > 30 and bmi <= 35:\n",
    "    print(f\"Your BMI is {bmi}, you are obese.\")\n",
    "elif bmi > 35:\n",
    "    print(f\"Your BMI is {bmi}, you are clinically obese.\")"
   ]
  },
  {
   "attachments": {},
   "cell_type": "markdown",
   "metadata": {},
   "source": [
    "#### **Lv 3 Quest 3 Leapyear**\n",
    "Ist es ein Schaltjahr?\\\n",
    "Schreiben Sie ein Programm, das eine Jahreszahl entgegen nimmt und überprüft\\\n",
    "ob es sich bei dieser Jahreszahl um ein Schaltjahr handelt oder nicht.\\\n",
    "Bitte lassen Sie das Ergebnis in der Konsole ausgeben."
   ]
  },
  {
   "cell_type": "code",
   "execution_count": null,
   "metadata": {},
   "outputs": [],
   "source": [
    "# 🚨 Don't change the code below 👇\n",
    "year = int(input(\"Which year do you want to check? \"))\n",
    "# 🚨 Don't change the code above 👆\n",
    "\n",
    "#Write your code below this line 👇"
   ]
  },
  {
   "attachments": {},
   "cell_type": "markdown",
   "metadata": {},
   "source": [
    "#### **Lösung Lv 3 Quest 3 Leapyear**"
   ]
  },
  {
   "cell_type": "code",
   "execution_count": null,
   "metadata": {},
   "outputs": [],
   "source": [
    "# 🚨 Don't change the code below 👇\n",
    "year = int(input(\"Which year do you want to check? \"))\n",
    "# 🚨 Don't change the code above 👆\n",
    "\n",
    "#Write your code below this line 👇\n",
    "\n",
    "if year % 4 == 0 and year % 100 != 0 and year % 400 == 0:\n",
    "    print(f\"Das Jahr {year} ist ein Schaltjahr.\")\n",
    "else:\n",
    "    print(f\"Das Jahr {year} ist kein Schaltjahr.\")"
   ]
  },
  {
   "attachments": {},
   "cell_type": "markdown",
   "metadata": {},
   "source": [
    "#### **Lv 3 Quest 4 PyPizza**\n",
    "Congratulations, you've got a job at Python Pizza.\\\n",
    "Your first job is to build an automatic pizza order program.\\\n",
    "Based on a user's order, work out their final bill.\n",
    "\n",
    "    Small Pizza: $15\n",
    "    Medium Pizza: $20\n",
    "    Large Pizza: $25\n",
    "\n",
    "    Pepperoni for Small Pizza: +$2\n",
    "    Pepperoni for Medium or Large Pizza: +$3\n",
    "    Extra cheese for any size pizza: + $1"
   ]
  },
  {
   "cell_type": "code",
   "execution_count": null,
   "metadata": {},
   "outputs": [],
   "source": [
    "# 🚨 Don't change the code below 👇\n",
    "print(\"Welcome to Python Pizza Deliveries!\")\n",
    "size = input(\"What size pizza do you want? S, M, or L \")\n",
    "add_pepperoni = input(\"Do you want pepperoni? Y or N \")\n",
    "extra_cheese = input(\"Do you want extra cheese? Y or N \")\n",
    "# 🚨 Don't change the code above 👆\n",
    "\n",
    "#Write your code below this line 👇"
   ]
  },
  {
   "attachments": {},
   "cell_type": "markdown",
   "metadata": {},
   "source": [
    "#### **Lösung Lv 3 Quest 4 PyPizza**"
   ]
  },
  {
   "cell_type": "code",
   "execution_count": null,
   "metadata": {},
   "outputs": [],
   "source": [
    "# 🚨 Don't change the code below 👇\n",
    "print(\"Welcome to Python Pizza Deliveries!\")\n",
    "size = input(\"What size pizza do you want? S, M, or L \")\n",
    "add_pepperoni = input(\"Do you want pepperoni? Y or N \")\n",
    "extra_cheese = input(\"Do you want extra cheese? Y or N \")\n",
    "# 🚨 Don't change the code above 👆\n",
    "\n",
    "#Write your code below this line 👇\n",
    "bill = 0\n",
    "\n",
    "if size == \"S\": \n",
    "    bill += 15\n",
    "    if add_pepperoni == \"Y\":\n",
    "        bill += 2\n",
    "elif size == \"M\": \n",
    "    bill += 20\n",
    "    if add_pepperoni == \"Y\":\n",
    "        bill += 3\n",
    "elif size == \"L\": \n",
    "    bill += 25\n",
    "    if add_pepperoni == \"Y\": \n",
    "        bill += 3\n",
    "\n",
    "if extra_cheese == \"Y\": bill += 1\n",
    "\n",
    "print(f\"Your final bill is: ${bill}\")"
   ]
  },
  {
   "attachments": {},
   "cell_type": "markdown",
   "metadata": {},
   "source": [
    "#### **Lv 3 Quest 5 Love Calculator**\n",
    "You are going to write a program that tests the compatibility between two people.\\\n",
    "To work out the love score between two people:\\\n",
    "\n",
    "    Take both people's names (Vor- und Nachname) and check\n",
    "    for the number of times the letters in the word TRUE occurs. \n",
    "    Then check for the number of times the letters in the word LOVE occurs. \n",
    "    Then combine these numbers to make a 2 digit number.\n",
    "\n",
    "For Love Scores less than 10 or greater than 90, the message should be:\\\n",
    "\"Your score is **x**, you go together like coke and mentos.\"\\\n",
    "For Love Scores between 40 and 50, the message should be:\\\n",
    "\"Your score is **y**, you are alright together.\"\\\n",
    "Otherwise, the message will just be their score. e.g.:\\\n",
    "\"Your score is **z**.\"\n",
    "\n",
    "Vor und Nachname werden komplett gegen TRUE LOVE geprüft,\\\n",
    "anschließend wird der Wert von TRUE für die erste Ziffer des Scores\\\n",
    "und der Wert von LOVE für die zweite Ziffer des Scores verwendet."
   ]
  },
  {
   "cell_type": "code",
   "execution_count": null,
   "metadata": {},
   "outputs": [],
   "source": [
    "# 🚨 Don't change the code below 👇\n",
    "print(\"Welcome to the Love Calculator!\")\n",
    "name1 = input(\"What is your name? \\n\")\n",
    "name2 = input(\"What is their name? \\n\")\n",
    "# 🚨 Don't change the code above 👆\n",
    "\n",
    "#Write your code below this line 👇\n",
    "\n",
    "\n",
    "# HINTS\n",
    "# lower()\n",
    "# count()"
   ]
  },
  {
   "attachments": {},
   "cell_type": "markdown",
   "metadata": {},
   "source": [
    "#### **Lösung Lv 3 Quest 5 Love Calculator**"
   ]
  },
  {
   "cell_type": "code",
   "execution_count": null,
   "metadata": {},
   "outputs": [],
   "source": [
    "# 🚨 Don't change the code below 👇\n",
    "print(\"Welcome to the Love Calculator!\")\n",
    "name1 = input(\"What is your name? \\n\")\n",
    "name2 = input(\"What is their name? \\n\")\n",
    "# 🚨 Don't change the code above 👆\n",
    "\n",
    "#Write your code below this line 👇\n",
    "name1 = name1.lower()\n",
    "name2 = name2.lower()\n",
    "\n",
    "resultT = name1.count(\"t\") + name2.count(\"t\")\n",
    "resultR = name1.count(\"r\") + name2.count(\"r\")\n",
    "resultU = name1.count(\"u\") + name2.count(\"u\")\n",
    "resultE = name1.count(\"e\") + name2.count(\"e\")\n",
    "\n",
    "resultL = name1.count(\"l\") + name2.count(\"l\")\n",
    "resultO = name1.count(\"o\") + name2.count(\"o\")\n",
    "resultV = name1.count(\"v\") + name2.count(\"v\")\n",
    "resultE2 = name1.count(\"e\") + name2.count(\"e\")\n",
    "\n",
    "resultTRUE = resultT + resultR + resultU + resultE\n",
    "resultLOVE = resultL + resultO + resultV + resultE2\n",
    "\n",
    "result = int(f\"{resultTRUE}{resultLOVE}\")\n",
    "\n",
    "if result>= 90 or result <= 10:\n",
    "    print(f\"Your score is {result}, you go together like coke and mentos.\")\n",
    "elif result < 50 and result > 40:\n",
    "    print(f\"Your score is {result}, you are alright together.\")\n",
    "else:\n",
    "    print(f\"Your score is {result}.\")"
   ]
  },
  {
   "attachments": {},
   "cell_type": "markdown",
   "metadata": {},
   "source": [
    "#### **Lv 3 Training 4**\n",
    "\n",
    "Ihre Aufgabe ist es, einen einfachen Code zu erstellen, der in der Lage ist,\\\n",
    "die Beendigungszeit nach einer bestimmten Zeitspanne zu ermitteln.\\\n",
    "Diese wird als Anzahl von Minuten angegeben (sie kann beliebig groß sein).\\\n",
    "Die Startzeit wird als Paar von Stunden (0..23) und Minuten (0..59) angegeben.\\\n",
    "Das Ergebnis muss auf der Konsole ausgegeben werden.\n",
    "\n",
    "Wenn zum Beispiel ein Ereignis um 12:17 Uhr beginnt und 59 Minuten dauert, endet es um 13:16 Uhr."
   ]
  },
  {
   "cell_type": "code",
   "execution_count": null,
   "metadata": {},
   "outputs": [],
   "source": [
    "hour = int(input(\"Starting time (hours): \"))\n",
    "mins = int(input(\"Starting time (minutes): \"))\n",
    "dura = int(input(\"Event duration (minutes): \"))\n",
    "\n",
    "# Write your code here."
   ]
  },
  {
   "attachments": {},
   "cell_type": "markdown",
   "metadata": {},
   "source": [
    "#### **Lösung Lv 3 Training 4**"
   ]
  },
  {
   "cell_type": "code",
   "execution_count": null,
   "metadata": {},
   "outputs": [],
   "source": [
    "print('# '*30, end=\"\\n\\n\")\n",
    "hour = int(input(\"Starting time (hours): \"))\n",
    "mins = int(input(\"Starting time (minutes): \"))\n",
    "dura = int(input(\"Event duration (minutes): \"))\n",
    "\n",
    "print('# '*30, end=\"\\n\\n\")\n",
    "\n",
    "print(f\"Die Startzeit des Events beträgt: {hour}:{mins} Uhr\")\n",
    "\n",
    "mins = mins + dura\n",
    "duration_in_hours = mins / 60\n",
    "\n",
    "hour = hour + int(duration_in_hours)\n",
    "\n",
    "if mins >= 60:\n",
    "    if hour >= 24:\n",
    "        hour = hour % 24\n",
    "    if mins >= 60:\n",
    "        mins = mins % 60\n",
    "\n",
    "print(f\"Die Endzeit des Events beträgt: {hour}:{mins} Uhr\")"
   ]
  },
  {
   "attachments": {},
   "cell_type": "markdown",
   "metadata": {},
   "source": [
    "#### **Lv 3 Training 5 Einkommenssteuer**\n",
    "Es war einmal ein schönes Land - ein Land, in dem Milch und Honig flossen\\\n",
    "und in dem glückliche und wohlhabende Menschen lebten.\\\n",
    "Das Glück der Menschen hatte seine Grenzen - Sie zahlten natürlich Steuern.\\\n",
    "Die wichtigste Steuer, die Persönliche Einkommenssteuer (kurz: PIT),\\\n",
    "musste einmal im Jahr gezahlt werden und wurde nach folgender Regel bemessen:\n",
    "\n",
    "Wenn das Einkommen des Bürgers nicht höher als 85.528 Taler war,\\\n",
    "betrug die Steuer 18 % des Einkommens abzüglich 556 Taler und 2 Cent (dies war die so genannte Steuerentlastung)\\\n",
    "war das Einkommen höher als dieser Betrag, betrug die Steuer 14.839 Taler und 2 Cent,\\\n",
    "plus 32% des Überschusses über 85.528 Taler.\n",
    "\n",
    "Ihre Aufgabe ist es, einen Steuerrechner zu schreiben.\\\n",
    "Er soll einen Fließkommawert akzeptieren: das Einkommen.\\\n",
    "Dann soll er die berechnete Steuer ausgeben, gerundet auf volle Taler. \n",
    "\n",
    "Hinweis: Dieses glückliche Land gibt seinen Bürgern niemals Geld zurück.\\\n",
    "Wenn die berechnete Steuer kleiner als Null ist,\\\n",
    "bedeutet das nur, dass überhaupt keine Steuer anfällt (die Steuer ist gleich Null).\\\n",
    "Berücksichtigen Sie dies bei Ihren Berechnungen.\n",
    "\n",
    "Schauen Sie sich den Code im Editor an, er liest nur einen Eingabewert und gibt ein Ergebnis aus,\\\n",
    "also müssen Sie ihn mit einigen intelligenten Berechnungen ergänzen."
   ]
  },
  {
   "cell_type": "code",
   "execution_count": null,
   "metadata": {},
   "outputs": [],
   "source": [
    "income = float(input(\"Enter the annual income: \"))\n",
    "\n",
    "#\n",
    "# Write your code here.\n",
    "#\n",
    "\n",
    "tax = round(tax, 0)\n",
    "print(\"The tax is:\", tax, \"thalers\")"
   ]
  },
  {
   "attachments": {},
   "cell_type": "markdown",
   "metadata": {},
   "source": [
    "#### **Lösung Lv 3 Training 5 Einkommenssteuer**"
   ]
  },
  {
   "cell_type": "code",
   "execution_count": null,
   "metadata": {},
   "outputs": [],
   "source": [
    "income = float(input(\"Enter the annual income: \"))\n",
    "\n",
    "if income <= 85528:\n",
    "    tax = (income/100) * 18\n",
    "    tax = tax - 556.02\n",
    "elif income > 85528:\n",
    "    rest = income - 85528\n",
    "    rest = (rest / 100) * 32\n",
    "    tax = 14839.02 + rest\n",
    "if tax < 0: tax = 0\n",
    "\n",
    "income = round(income - tax)\n",
    "tax = round(tax, 0)\n",
    "print(7 * \"# \")\n",
    "print(\"The tax is:\", tax, \"thalers\")\n",
    "print(\"The salary is:\", income, \"thalers\")\n",
    "print(7 * \"# \")"
   ]
  }
 ],
 "metadata": {
  "kernelspec": {
   "display_name": "Python 3",
   "language": "python",
   "name": "python3"
  },
  "language_info": {
   "codemirror_mode": {
    "name": "ipython",
    "version": 3
   },
   "file_extension": ".py",
   "mimetype": "text/x-python",
   "name": "python",
   "nbconvert_exporter": "python",
   "pygments_lexer": "ipython3",
   "version": "3.10.2"
  },
  "orig_nbformat": 4,
  "vscode": {
   "interpreter": {
    "hash": "199d4d96980d3c77fd685aeae9f69782f382d18d101d3d05db881b6799e10f7f"
   }
  }
 },
 "nbformat": 4,
 "nbformat_minor": 2
}
