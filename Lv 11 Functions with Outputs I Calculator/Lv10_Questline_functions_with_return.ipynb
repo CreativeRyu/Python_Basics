{
 "cells": [
  {
   "attachments": {},
   "cell_type": "markdown",
   "metadata": {},
   "source": [
    "# **Lv 10 Questline Functions with Return**"
   ]
  },
  {
   "cell_type": "code",
   "execution_count": 2,
   "metadata": {},
   "outputs": [
    {
     "name": "stdout",
     "output_type": "stream",
     "text": [
      "Got filled up your hearts by 2\n"
     ]
    }
   ],
   "source": [
    "def fill_hearts(hearts = 0):\n",
    "    if hearts == 0:\n",
    "        return\n",
    "    else:\n",
    "        print(f\"Got filled up your hearts by {hearts}\")\n",
    "\n",
    "fill_hearts()\n",
    "fill_hearts(2)"
   ]
  },
  {
   "cell_type": "code",
   "execution_count": 8,
   "metadata": {},
   "outputs": [
    {
     "name": "stdout",
     "output_type": "stream",
     "text": [
      "Ryu Ronin\n"
     ]
    }
   ],
   "source": [
    "def format_name(f_name, l_name):\n",
    "    f_name = f_name.title()\n",
    "    l_name = l_name.title()\n",
    "    # print(f\"{f_name} {l_name}\")\n",
    "    return f\"{f_name} {l_name}\"\n",
    "\n",
    "print(format_name(\"ryu\", \"rONin\"))"
   ]
  },
  {
   "cell_type": "code",
   "execution_count": 10,
   "metadata": {},
   "outputs": [
    {
     "name": "stdout",
     "output_type": "stream",
     "text": [
      "84\n",
      "21.0\n",
      "Auch ich werde zurück gegeben.\n",
      "(84, 21.0, 'Auch ich werde zurück gegeben.')\n"
     ]
    }
   ],
   "source": [
    "def spam():\n",
    "    wert = 42\n",
    "    return wert * 2, wert / 2, \"Auch ich werde zurück gegeben.\"\n",
    "\n",
    "great_value, small_value, some_text = spam()\n",
    "tup1 = spam()\n",
    "print(great_value)\n",
    "print(small_value)\n",
    "print(some_text)\n",
    "print(tup1)"
   ]
  }
 ],
 "metadata": {
  "kernelspec": {
   "display_name": "Python 3",
   "language": "python",
   "name": "python3"
  },
  "language_info": {
   "codemirror_mode": {
    "name": "ipython",
    "version": 3
   },
   "file_extension": ".py",
   "mimetype": "text/x-python",
   "name": "python",
   "nbconvert_exporter": "python",
   "pygments_lexer": "ipython3",
   "version": "3.10.2"
  },
  "orig_nbformat": 4,
  "vscode": {
   "interpreter": {
    "hash": "199d4d96980d3c77fd685aeae9f69782f382d18d101d3d05db881b6799e10f7f"
   }
  }
 },
 "nbformat": 4,
 "nbformat_minor": 2
}
