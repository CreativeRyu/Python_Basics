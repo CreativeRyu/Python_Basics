{
 "cells": [
  {
   "attachments": {},
   "cell_type": "markdown",
   "metadata": {},
   "source": [
    "# **Level 1 Questline Strings | Eingabe | Ausgabe**"
   ]
  },
  {
   "attachments": {},
   "cell_type": "markdown",
   "metadata": {},
   "source": [
    "## **print() function**"
   ]
  },
  {
   "cell_type": "code",
   "execution_count": 1,
   "metadata": {},
   "outputs": [
    {
     "name": "stdout",
     "output_type": "stream",
     "text": [
      "Hello World\n",
      "print('Hello World')\n"
     ]
    }
   ],
   "source": [
    "print(\"Hello World\")\n",
    "print(\"print('Hello World')\")"
   ]
  },
  {
   "cell_type": "code",
   "execution_count": 3,
   "metadata": {},
   "outputs": [
    {
     "name": "stdout",
     "output_type": "stream",
     "text": [
      "Hello World\n",
      "Hello World It's Ryu\n",
      "String Konkatenation wird mit dem \"+\" Zeichen durchgeführt.\n",
      "Was passiert, wenn ich Kommas zwischen die Strings setze.\n"
     ]
    }
   ],
   "source": [
    "print(\"Hello World\\nHello World\" + \" It's Ryu\")\n",
    "print(\"String Konkatenation wird mit dem \\\"+\\\" Zeichen durchgeführt.\")\n",
    "print(\"Was passiert,\",\"wenn ich Kommas\",\"zwischen die Strings\", \"setze.\")"
   ]
  },
  {
   "attachments": {},
   "cell_type": "markdown",
   "metadata": {},
   "source": [
    "#### **Level 1 Quest 1 String Ausgabe**\n",
    "\n",
    "Schreiben Sie ein Programm, dass die folgenden drei Zeilen ausgibt.\n",
    "\n",
    "    Level 1 - Die Python Print Funktion\n",
    "    wird wie folgt deklariert:\n",
    "    print('what to print')"
   ]
  },
  {
   "cell_type": "code",
   "execution_count": null,
   "metadata": {},
   "outputs": [],
   "source": [
    "Level 1 - Die Python Print Funktion\n",
    "wird wie folgt deklariert:\n",
    "print('what to print')"
   ]
  },
  {
   "attachments": {},
   "cell_type": "markdown",
   "metadata": {},
   "source": [
    "#### **Lösung Level 1 Quest 1 String Ausgabe**"
   ]
  },
  {
   "cell_type": "code",
   "execution_count": 1,
   "metadata": {},
   "outputs": [
    {
     "name": "stdout",
     "output_type": "stream",
     "text": [
      "Day 1 - Die Python Print Funktion\n",
      "wird wie folgt deklariert:\n",
      "print('what to print')\n"
     ]
    }
   ],
   "source": [
    "print(\"Level 1 - Die Python Print Funktion\")\n",
    "print(\"wird wie folgt deklariert:\")\n",
    "print(\"print('what to print')\")"
   ]
  },
  {
   "attachments": {},
   "cell_type": "markdown",
   "metadata": {},
   "source": [
    "#### **Level 1 Quest 2 Ausgaben debuggen**\n",
    "\n",
    "Beheben Sie die Fehler im unten aufgeführten Code 👇"
   ]
  },
  {
   "cell_type": "code",
   "execution_count": null,
   "metadata": {},
   "outputs": [],
   "source": [
    "print(Day 1 - String Manipulation\")\n",
    "print(\"String Concatenation is done with the \"+\" sign.\")\n",
    " print('e.g. print(\"Hello \" + \"world\")')\n",
    "print((\"New lines can be created with a backslash and n.\")"
   ]
  },
  {
   "attachments": {},
   "cell_type": "markdown",
   "metadata": {},
   "source": [
    "#### **Lösung Level 1 Quest 2 Ausgaben debuggen**"
   ]
  },
  {
   "cell_type": "code",
   "execution_count": 2,
   "metadata": {},
   "outputs": [
    {
     "name": "stdout",
     "output_type": "stream",
     "text": [
      "Day 1 - String Manipulation\n",
      "String Concatenation is done with the \"+\" sign.\n",
      "e.g. print(\"Hello \" + \"world\")\n",
      "New lines can be created with a backslash and n.\n"
     ]
    }
   ],
   "source": [
    "print(\"Day 1 - String Manipulation\")\n",
    "print(\"String Concatenation is done with the \\\"+\\\" sign.\")\n",
    "print('e.g. print(\"Hello \" + \"world\")')\n",
    "print(\"New lines can be created with a backslash and n.\")"
   ]
  },
  {
   "attachments": {},
   "cell_type": "markdown",
   "metadata": {},
   "source": [
    "### **print() function Sep | End**"
   ]
  },
  {
   "cell_type": "code",
   "execution_count": null,
   "metadata": {},
   "outputs": [],
   "source": [
    "## In end steht per default ein \\n -> end=\"\\n\"\n",
    "print(\"Ich mag Züge\", \"Heute nicht.\", sep=\"###\", end=\" \")"
   ]
  },
  {
   "attachments": {},
   "cell_type": "markdown",
   "metadata": {},
   "source": [
    "#### **Level 1 Training 1**\n",
    "\n",
    "Modifizieren Sie die zwei unten aufgeführten Codezeilen so, \n",
    "dass die Ausgabe deckungsgleich mit der folgenden Zeile ist:"
   ]
  },
  {
   "cell_type": "code",
   "execution_count": null,
   "metadata": {},
   "outputs": [],
   "source": [
    "# Programming***Essentials***in...Python\n",
    "\n",
    "print(\"Programming\",\"Essentials\",\"in\")\n",
    "print(\"Python\")"
   ]
  },
  {
   "attachments": {},
   "cell_type": "markdown",
   "metadata": {},
   "source": [
    "#### **Lösung Level 1 Training 1**"
   ]
  },
  {
   "cell_type": "code",
   "execution_count": null,
   "metadata": {},
   "outputs": [],
   "source": [
    "print(\"Programming\",\"Essentials\",\"in\", sep=\"***\", end =\"...\")\n",
    "print(\"Python\")"
   ]
  },
  {
   "attachments": {},
   "cell_type": "markdown",
   "metadata": {},
   "source": [
    "#### **Level 1 Training 2 Pfeile Anpassen**\n",
    "\n",
    "1. Minimize the number of print() function invocations by inserting the \\n sequence into the strings\n",
    "2. Make the arrow twice as large (but keep the proportions)\n",
    "3. duplicate the arrow, placing both arrows side by side; note: a string may be multiplied by using the following trick:\\\n",
    " \"string\" * 2 will produce \"stringstring\""
   ]
  },
  {
   "cell_type": "code",
   "execution_count": 2,
   "metadata": {},
   "outputs": [
    {
     "name": "stdout",
     "output_type": "stream",
     "text": [
      "    *    \n",
      "   * *   \n",
      "  *   *  \n",
      " *     * \n",
      "***   ***\n",
      "  *   *  \n",
      "  *   *  \n",
      "  *****  \n",
      "    *        *        *        *        *        *        *        *    \n",
      "   * *      * *      * *      * *      * *      * *      * *      * *   \n",
      "  *   *    *   *    *   *    *   *    *   *    *   *    *   *    *   *  \n",
      " *     *  *     *  *     *  *     *  *     *  *     *  *     *  *     * \n",
      "***   ******   ******   ******   ******   ******   ******   ******   ***\n",
      "  *   *    *   *    *   *    *   *    *   *    *   *    *   *    *   *  \n",
      "  *   *    *   *    *   *    *   *    *   *    *   *    *   *    *   *  \n",
      "  *****    *****    *****    *****    *****    *****    *****    *****  \n"
     ]
    }
   ],
   "source": [
    "print(\"    *    \")\n",
    "print(\"   * *   \")\n",
    "print(\"  *   *  \")\n",
    "print(\" *     * \")\n",
    "print(\"***   ***\")\n",
    "print(\"  *   *  \")\n",
    "print(\"  *   *  \")\n",
    "print(\"  *****  \")\n",
    "\n",
    "print(8 * \"    *    \")\n",
    "print(8 * \"   * *   \")\n",
    "print(8 * \"  *   *  \")\n",
    "print(8 * \" *     * \")\n",
    "print(8 * \"***   ***\")\n",
    "print(8 * \"  *   *  \")\n",
    "print(8 * \"  *   *  \")\n",
    "print(8 * \"  *****  \")"
   ]
  },
  {
   "cell_type": "code",
   "execution_count": 1,
   "metadata": {},
   "outputs": [
    {
     "name": "stdout",
     "output_type": "stream",
     "text": [
      "    *\n",
      "   * *\n",
      "  *   *\n",
      " *     *\n",
      "***   ***\n",
      "  *   *\n",
      "  *   *\n",
      "  *****\n"
     ]
    }
   ],
   "source": [
    "unserString = \"    *\\n   * *\\n  *   *\\n *     *\\n***   ***\\n  *   *\\n  *   *\\n  *****\"\n",
    "print(\"    *\\n   * *\\n  *   *\\n *     *\\n***   ***\\n  *   *\\n  *   *\\n  *****\")"
   ]
  },
  {
   "cell_type": "code",
   "execution_count": null,
   "metadata": {},
   "outputs": [],
   "source": [
    "print(4 * \"         *         \")\n",
    "print(4 * \"        * *        \")\n",
    "print(4 * \"       *   *       \")\n",
    "print(4 * \"      *     *      \")\n",
    "print(4 * \"     *       *     \")\n",
    "print(4 * \"    *         *    \")\n",
    "print(4 * \"   *           *   \")\n",
    "print(4 * \"  *             *  \")\n",
    "print(4 * \" *               * \")\n",
    "print(4 * \"******       ******\")\n",
    "print(4 * \"     *       *     \")\n",
    "print(4 * \"     *       *     \")\n",
    "print(4 * \"     *       *     \")\n",
    "print(4 * \"     *       *     \")\n",
    "print(4 * \"     *       *     \")\n",
    "print(4 * \"     *       *     \")\n",
    "print(4 * \"     *********     \")"
   ]
  },
  {
   "attachments": {},
   "cell_type": "markdown",
   "metadata": {},
   "source": [
    "#### **Aufgabe zum Thema Escape** \n",
    "Der Output soll mit den unteren drei Zeilen übereinstimmen:\n",
    "\n",
    "\"I'm\"\\\n",
    "\"\"learning\"\"\\\n",
    "\"\"\"Python\"\"\""
   ]
  },
  {
   "attachments": {},
   "cell_type": "markdown",
   "metadata": {},
   "source": [
    "#### **Lösung Escape**"
   ]
  },
  {
   "cell_type": "code",
   "execution_count": null,
   "metadata": {},
   "outputs": [],
   "source": [
    "print(\"\\\"I'm\\\"\")\n",
    "print(\"\\\"\\\"learning\\\"\\\"\")\n",
    "print(\"\"\"Python\"\"\")"
   ]
  },
  {
   "attachments": {},
   "cell_type": "markdown",
   "metadata": {},
   "source": [
    "## **input() function**\n",
    "Die input Funktion liefert immer einen String zurück."
   ]
  },
  {
   "cell_type": "code",
   "execution_count": null,
   "metadata": {},
   "outputs": [],
   "source": [
    "input(\"Wie lautet dein Name?\")\n",
    "print(\"Hallo \" + input(\"Wie lautet dein Name?\"))"
   ]
  },
  {
   "attachments": {},
   "cell_type": "markdown",
   "metadata": {},
   "source": [
    "### **Anzahl der Buchstaben eines Strings**"
   ]
  },
  {
   "cell_type": "code",
   "execution_count": null,
   "metadata": {},
   "outputs": [],
   "source": [
    "print(len(input(\"Wie lautet dein Name? \")))\n",
    "print(\"'Hi'\")\n",
    "print('\"hi\"')"
   ]
  },
  {
   "attachments": {},
   "cell_type": "markdown",
   "metadata": {},
   "source": [
    "#### **Lv 1 Quest 4 Anzahl der Zeichen**\n",
    "Schreiben Sie ein Programm, dass die Anzahl der Zeichen eines eingegebenen Benutzernamens ausgibt."
   ]
  },
  {
   "attachments": {},
   "cell_type": "markdown",
   "metadata": {},
   "source": [
    "#### **Lösung Quest 4 Anzahl der Zeichen**"
   ]
  },
  {
   "cell_type": "code",
   "execution_count": null,
   "metadata": {},
   "outputs": [],
   "source": [
    "print(len(input(\"Wie lautet dein Name? \")))"
   ]
  },
  {
   "attachments": {},
   "cell_type": "markdown",
   "metadata": {},
   "source": [
    "#### **Draw a Square**"
   ]
  },
  {
   "cell_type": "code",
   "execution_count": 1,
   "metadata": {},
   "outputs": [
    {
     "name": "stdout",
     "output_type": "stream",
     "text": [
      "+----------+\n",
      "|          |\n",
      "|          |\n",
      "|          |\n",
      "|          |\n",
      "+----------+\n"
     ]
    }
   ],
   "source": [
    "print(\"+\" + 10 * \"-\" + \"+\")\n",
    "print((\"|\" + \" \" * 10 + \"|\\n\") * 4, end=\"\")\n",
    "print(\"+\" + 10 * \"-\" + \"+\")"
   ]
  },
  {
   "attachments": {},
   "cell_type": "markdown",
   "metadata": {},
   "source": [
    "#### **Mehrfachzeilenkommentierung und Text 2 ASCII Art Converter**"
   ]
  },
  {
   "cell_type": "code",
   "execution_count": null,
   "metadata": {},
   "outputs": [],
   "source": [
    "\"\"\"\n",
    "  ___          _      \n",
    " | _ \\___ _ _ (_)_ _  \n",
    " |   / _ \\ ' \\| | ' \\ \n",
    " |_|_\\___/_||_|_|_||_|\n",
    "\"\"\"\n",
    "\n",
    "# http://patorjk.com/software/taag/#p=display&f=Small&t=Ronin"
   ]
  }
 ],
 "metadata": {
  "kernelspec": {
   "display_name": "Python 3",
   "language": "python",
   "name": "python3"
  },
  "language_info": {
   "codemirror_mode": {
    "name": "ipython",
    "version": 3
   },
   "file_extension": ".py",
   "mimetype": "text/x-python",
   "name": "python",
   "nbconvert_exporter": "python",
   "pygments_lexer": "ipython3",
   "version": "3.10.2"
  },
  "orig_nbformat": 4,
  "vscode": {
   "interpreter": {
    "hash": "199d4d96980d3c77fd685aeae9f69782f382d18d101d3d05db881b6799e10f7f"
   }
  }
 },
 "nbformat": 4,
 "nbformat_minor": 2
}
