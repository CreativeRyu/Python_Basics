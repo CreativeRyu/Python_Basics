{
 "cells": [
  {
   "attachments": {},
   "cell_type": "markdown",
   "metadata": {},
   "source": [
    "# **Lv 05 Questline For Loops**"
   ]
  },
  {
   "cell_type": "code",
   "execution_count": 1,
   "metadata": {},
   "outputs": [
    {
     "name": "stdout",
     "output_type": "stream",
     "text": [
      "Apple\n",
      "Peach\n",
      "Lemon\n"
     ]
    }
   ],
   "source": [
    "fruits = [\"Apple\", \"Peach\", \"Lemon\"]\n",
    "for fruit in fruits:\n",
    "    print(fruit)"
   ]
  },
  {
   "cell_type": "code",
   "execution_count": 2,
   "metadata": {},
   "outputs": [
    {
     "name": "stdout",
     "output_type": "stream",
     "text": [
      "10\n",
      "52\n",
      "85\n",
      "185\n",
      "201\n"
     ]
    }
   ],
   "source": [
    "# Addition der Zahlen einer Liste mittels For Schleife\n",
    "numberz = [10, 42, 33, 100, 16]\n",
    "total = 0\n",
    "for number in numberz:\n",
    "    total = total + number\n",
    "    print(total)"
   ]
  },
  {
   "attachments": {},
   "cell_type": "markdown",
   "metadata": {},
   "source": [
    "#### **Lv 5 Quest 1 Average Height**\n",
    "\n",
    "Bitte schreiben Sie ein Programm, das die durchschnittliche Körpergröße der Schüler aus einer Liste von Körpergrößen berechnet.\\\n",
    "z.B. student_heights = [180, 124, 165, 173, 189, 169, 146]\\\n",
    "Die durchschnittliche Körpergröße kann berechnet werden, indem alle\\\n",
    "Körpergrößen addiert und durch die Gesamtzahl der\\\n",
    "Körpergrößen geteilt werden.\n",
    "\n",
    "z.B. 180 + 124 + 165 + 173 + 189 + 169 + 146 = 1146\n",
    "\n",
    "Es gibt insgesamt sieben Werte in student_heights.\\\n",
    "-> 1146 ÷ 7 = 163.71428571428572\\\n",
    "Runden Sie das Ergebnis auf die nächste ganze Zahl.\\\n",
    "Wichtig: Die sum() oder len() Funktion darf nicht in der Antwort verwendet werden.\\\n",
    "Versuchen Sie, deren Funktionalität mit dem, was Sie über for-Schleifen\\\n",
    "gelernt haben, nachzubilden."
   ]
  },
  {
   "cell_type": "code",
   "execution_count": null,
   "metadata": {},
   "outputs": [],
   "source": [
    "# 🚨 Ändern Sie bitte nicht den Code unter dieser Zeile 👇\n",
    "print(\"# # # # # # # # # # # # # # # # # # # # # # # #\\n\")\n",
    "\n",
    "student_heights = input(\"Input a list of student heights \").split()\n",
    "for n in range(0, len(student_heights)):\n",
    "    student_heights[n] = int(student_heights[n])\n",
    "\n",
    "print(\"\\n# # # # # # # # # # # # # # # # # # # # # # # #\\n\")\n",
    "# 🚨 Ändern Sie bitte nicht den Code über dieser Zeile 👆\n",
    "\n",
    "# Schreiben Sie Ihren Code unter dieser Zeile 👇"
   ]
  },
  {
   "attachments": {},
   "cell_type": "markdown",
   "metadata": {},
   "source": [
    "#### **Lösung Lv 5 Quest 1 Average Height**"
   ]
  },
  {
   "cell_type": "code",
   "execution_count": 5,
   "metadata": {},
   "outputs": [
    {
     "name": "stdout",
     "output_type": "stream",
     "text": [
      "# # # # # # # # # # # # # # # # # # # # # # # #\n",
      "\n",
      "\n",
      "# # # # # # # # # # # # # # # # # # # # # # # #\n",
      "\n",
      "1016\n",
      "6\n",
      "170\n"
     ]
    }
   ],
   "source": [
    "# 🚨 Ändern Sie bitte nicht den Code unter dieser Zeile 👇\n",
    "import math\n",
    "print(\"# # # # # # # # # # # # # # # # # # # # # # # #\\n\")\n",
    "\n",
    "student_heights = input(\"Input a list of student heights \").split()\n",
    "for n in range(0, len(student_heights)):\n",
    "    student_heights[n] = int(student_heights[n])\n",
    "\n",
    "print(\"\\n# # # # # # # # # # # # # # # # # # # # # # # #\\n\")\n",
    "# 🚨 Ändern Sie bitte nicht den Code über dieser Zeile 👆\n",
    "\n",
    "# Schreiben Sie Ihren Code unter dieser Zeile 👇\n",
    "total_heights = 0\n",
    "height_count = 0\n",
    "\n",
    "for height in student_heights:\n",
    "    total_heights += height\n",
    "    height_count += 1\n",
    "\n",
    "print(total_heights)\n",
    "print(height_count)\n",
    "\n",
    "average_height = math.ceil(total_heights / height_count)\n",
    "print(average_height)"
   ]
  },
  {
   "attachments": {},
   "cell_type": "markdown",
   "metadata": {},
   "source": [
    "#### **Lv 5 Quest 2 High Score**\n",
    "\n",
    "Schreiben Sie ein Programm, das die höchste Punktzahl\\\n",
    "aus einer Liste von Punktzahlen errechnet.\\\n",
    "z.B. student_scores = [78, 65, 89, 86, 55, 91, 64, 89]\\\n",
    "Wichtig: Sie dürfen die Funktionen max und min nicht verwenden.\\\n",
    "Nutzen Sie für die Lösung der Aufgabe lediglich einen *for Loop*\\\n",
    "Beispiel Ausgabe: Die höchste Punktzahl in der Klasse ist: x"
   ]
  },
  {
   "cell_type": "code",
   "execution_count": null,
   "metadata": {},
   "outputs": [],
   "source": [
    "# 🚨 Ändern Sie bitte nicht den Code unter dieser Zeile 👇\n",
    "student_scores = input(\"Input a list of student scores \").split()\n",
    "for n in range(0, len(student_scores)):\n",
    "  student_scores[n] = int(student_scores[n])\n",
    "print(student_scores)\n",
    "# 🚨 Ändern Sie bitte nicht den Code über dieser Zeile 👆\n",
    "\n",
    "# Schreiben Sie Ihren Code unter dieser Zeile 👇"
   ]
  },
  {
   "attachments": {},
   "cell_type": "markdown",
   "metadata": {},
   "source": [
    "#### **Lösung Lv 5 Quest 2 High Score**"
   ]
  },
  {
   "cell_type": "code",
   "execution_count": 7,
   "metadata": {},
   "outputs": [
    {
     "name": "stdout",
     "output_type": "stream",
     "text": [
      "[140, 52, 66, 10]\n",
      "140\n"
     ]
    }
   ],
   "source": [
    "# 🚨 Don't change the code below 👇\n",
    "student_scores = input(\"Input a list of student scores \").split()\n",
    "for n in range(0, len(student_scores)):\n",
    "    student_scores[n] = int(student_scores[n])\n",
    "print(student_scores)\n",
    "# 🚨 Don't change the code above 👆\n",
    "\n",
    "# max(student_scores)\n",
    "# min(student_scores)\n",
    "\n",
    "# Schreiben Sie Ihren Code unter dieser Zeile 👇\n",
    "max_score = 0\n",
    "\n",
    "for score in student_scores:\n",
    "    if score > max_score:\n",
    "        max_score = score\n",
    "        \n",
    "print(max_score)"
   ]
  },
  {
   "attachments": {},
   "cell_type": "markdown",
   "metadata": {},
   "source": [
    "## **range() Function**"
   ]
  },
  {
   "cell_type": "code",
   "execution_count": 8,
   "metadata": {},
   "outputs": [
    {
     "name": "stdout",
     "output_type": "stream",
     "text": [
      "0\n",
      "1\n",
      "2\n",
      "3\n",
      "4\n",
      "5\n",
      "6\n",
      "7\n",
      "8\n",
      "9\n"
     ]
    }
   ],
   "source": [
    "# For Loop mit Range\n",
    "for number in range(10):\n",
    "    print(number)"
   ]
  },
  {
   "cell_type": "code",
   "execution_count": 9,
   "metadata": {},
   "outputs": [
    {
     "name": "stdout",
     "output_type": "stream",
     "text": [
      "1\n",
      "2\n",
      "3\n",
      "4\n",
      "5\n",
      "6\n",
      "7\n",
      "8\n",
      "9\n",
      "10\n"
     ]
    }
   ],
   "source": [
    "# range( 1 - 10 ) gibt nur die Zahlen 1 - 9 aus,\n",
    "# man muss also immer einen auf den Stopparameter hinzuaddieren\n",
    "for number in range(1, 11):\n",
    "    print(number)"
   ]
  },
  {
   "cell_type": "code",
   "execution_count": 10,
   "metadata": {},
   "outputs": [
    {
     "name": "stdout",
     "output_type": "stream",
     "text": [
      "1\n",
      "4\n",
      "7\n",
      "10\n"
     ]
    }
   ],
   "source": [
    "# Hier wird die Größe der Schritte definiert\n",
    "# Start | Stop | Step Parameters\n",
    "for number in range(1, 11, 3):\n",
    "    print(number)"
   ]
  },
  {
   "cell_type": "code",
   "execution_count": 11,
   "metadata": {},
   "outputs": [
    {
     "name": "stdout",
     "output_type": "stream",
     "text": [
      "5050\n"
     ]
    }
   ],
   "source": [
    "result = 0\n",
    "for number in range(1, 101):\n",
    "    result += number\n",
    "\n",
    "print(result)"
   ]
  },
  {
   "attachments": {},
   "cell_type": "markdown",
   "metadata": {},
   "source": [
    "#### **Mississippi**"
   ]
  },
  {
   "cell_type": "code",
   "execution_count": 2,
   "metadata": {},
   "outputs": [
    {
     "name": "stdout",
     "output_type": "stream",
     "text": [
      "1 Mississippi\n",
      "2 Mississippi\n",
      "3 Mississippi\n",
      "4 Mississippi\n",
      "5 Mississippi\n",
      "Fertig oder nicht, ich komme.\n"
     ]
    }
   ],
   "source": [
    "import time\n",
    "\n",
    "for number in range(1, 6):\n",
    "    print(f\"{number} Mississippi\")\n",
    "    time.sleep(1)\n",
    "print(\"Fertig oder nicht, ich komme.\")"
   ]
  },
  {
   "attachments": {},
   "cell_type": "markdown",
   "metadata": {},
   "source": [
    "#### **Lv 5 Quest 3 Adding Numbers**"
   ]
  },
  {
   "cell_type": "code",
   "execution_count": 3,
   "metadata": {},
   "outputs": [
    {
     "name": "stdout",
     "output_type": "stream",
     "text": [
      "2550\n"
     ]
    }
   ],
   "source": [
    "# Adding Even Numbers\n",
    "even_result = 0\n",
    "\n",
    "for number in range(1, 101):\n",
    "    if number % 2 == 0:\n",
    "        even_result += number\n",
    "print(even_result)"
   ]
  },
  {
   "cell_type": "code",
   "execution_count": 5,
   "metadata": {},
   "outputs": [
    {
     "name": "stdout",
     "output_type": "stream",
     "text": [
      "2500\n"
     ]
    }
   ],
   "source": [
    "# Adding Odd Numbers\n",
    "odd_result = 0\n",
    "\n",
    "for number in range(1, 101):\n",
    "    if number % 2 != 0:\n",
    "        odd_result += number\n",
    "\n",
    "print(odd_result)"
   ]
  },
  {
   "attachments": {},
   "cell_type": "markdown",
   "metadata": {},
   "source": [
    "#### **Lv 5 Quest 4 FizzBuzz**"
   ]
  },
  {
   "cell_type": "code",
   "execution_count": 6,
   "metadata": {},
   "outputs": [
    {
     "name": "stdout",
     "output_type": "stream",
     "text": [
      "1\n",
      "2\n",
      "Fizz\n",
      "4\n",
      "Buzz\n",
      "Fizz\n",
      "7\n",
      "8\n",
      "Fizz\n",
      "Buzz\n",
      "11\n",
      "Fizz\n",
      "13\n",
      "14\n",
      "FizzBuzz\n",
      "16\n",
      "17\n",
      "Fizz\n",
      "19\n",
      "Buzz\n",
      "Fizz\n",
      "22\n",
      "23\n",
      "Fizz\n",
      "Buzz\n",
      "26\n",
      "Fizz\n",
      "28\n",
      "29\n",
      "FizzBuzz\n",
      "31\n",
      "32\n",
      "Fizz\n",
      "34\n",
      "Buzz\n",
      "Fizz\n",
      "37\n",
      "38\n",
      "Fizz\n",
      "Buzz\n",
      "41\n",
      "Fizz\n",
      "43\n",
      "44\n",
      "FizzBuzz\n",
      "46\n",
      "47\n",
      "Fizz\n",
      "49\n",
      "Buzz\n",
      "Fizz\n",
      "52\n",
      "53\n",
      "Fizz\n",
      "Buzz\n",
      "56\n",
      "Fizz\n",
      "58\n",
      "59\n",
      "FizzBuzz\n",
      "61\n",
      "62\n",
      "Fizz\n",
      "64\n",
      "Buzz\n",
      "Fizz\n",
      "67\n",
      "68\n",
      "Fizz\n",
      "Buzz\n",
      "71\n",
      "Fizz\n",
      "73\n",
      "74\n",
      "FizzBuzz\n",
      "76\n",
      "77\n",
      "Fizz\n",
      "79\n",
      "Buzz\n",
      "Fizz\n",
      "82\n",
      "83\n",
      "Fizz\n",
      "Buzz\n",
      "86\n",
      "Fizz\n",
      "88\n",
      "89\n",
      "FizzBuzz\n",
      "91\n",
      "92\n",
      "Fizz\n",
      "94\n",
      "Buzz\n",
      "Fizz\n",
      "97\n",
      "98\n",
      "Fizz\n",
      "Buzz\n"
     ]
    }
   ],
   "source": [
    "for number in range(1, 101):\n",
    "    if number % 3 == 0 and number % 5 == 0:\n",
    "        print(\"FizzBuzz\")\n",
    "    elif number % 3 == 0:\n",
    "        print(\"Fizz\")\n",
    "    elif number % 5 == 0:\n",
    "        print(\"Buzz\")\n",
    "    else:\n",
    "        print(number)"
   ]
  },
  {
   "cell_type": "code",
   "execution_count": 1,
   "metadata": {},
   "outputs": [],
   "source": [
    "var = 0\n",
    "for i in range(3):\n",
    "    for j in range(-2, -7, -2):\n",
    "        var += 1\n",
    "print(var)"
   ]
  }
 ],
 "metadata": {
  "kernelspec": {
   "display_name": "Python 3",
   "language": "python",
   "name": "python3"
  },
  "language_info": {
   "codemirror_mode": {
    "name": "ipython",
    "version": 3
   },
   "file_extension": ".py",
   "mimetype": "text/x-python",
   "name": "python",
   "nbconvert_exporter": "python",
   "pygments_lexer": "ipython3",
   "version": "3.10.2"
  },
  "orig_nbformat": 4,
  "vscode": {
   "interpreter": {
    "hash": "199d4d96980d3c77fd685aeae9f69782f382d18d101d3d05db881b6799e10f7f"
   }
  }
 },
 "nbformat": 4,
 "nbformat_minor": 2
}
