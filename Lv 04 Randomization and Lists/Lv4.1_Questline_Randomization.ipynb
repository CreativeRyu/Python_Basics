{
 "cells": [
  {
   "attachments": {},
   "cell_type": "markdown",
   "metadata": {},
   "source": [
    "# **Level 4.1 Questline Randomization**\n",
    "\n",
    "    Randomization funktioniert nur wenn das Modul \"random\" importiert wird"
   ]
  },
  {
   "cell_type": "code",
   "execution_count": 8,
   "metadata": {},
   "outputs": [
    {
     "name": "stdout",
     "output_type": "stream",
     "text": [
      "3.14159265359\n"
     ]
    }
   ],
   "source": [
    "import random\n",
    "import piModule\n",
    "\n",
    "print(piModule.pi)"
   ]
  },
  {
   "cell_type": "code",
   "execution_count": 138,
   "metadata": {},
   "outputs": [
    {
     "name": "stdout",
     "output_type": "stream",
     "text": [
      "Here comes a random int\n",
      "9\n",
      "Here comes a 2nd random int\n",
      "7\n",
      "Float between 0 and 1\n",
      "0.983662398217435\n",
      "Float between 0 and 5\n",
      "4.918311991087175\n"
     ]
    }
   ],
   "source": [
    "# Erzeugt einen zufälligen Integer in einem vordefinierten Bereich\n",
    "print(\"Here comes a random int\")\n",
    "randomInt = random.randint(1, 10)\n",
    "print(randomInt)\n",
    "print(\"Here comes a 2nd random int\")\n",
    "randomInt = random.randint(1, 10)\n",
    "print(randomInt)\n",
    "\n",
    "# Erzeugt einen zufälligen Float zwischen 0 und 1\n",
    "print(\"Float between 0 and 1\")\n",
    "random_float = random.random()\n",
    "print(random_float)\n",
    "print(\"Float between 0 and 5\")\n",
    "float_five = random_float * 5\n",
    "print(float_five)"
   ]
  },
  {
   "attachments": {},
   "cell_type": "markdown",
   "metadata": {},
   "source": [
    "#### **Lv 4 Quest 1 Flip Coin**\n",
    "\n",
    "Schreiben Sie bitte ein Programm, das zufällig zwischen Kopf oder Zahl entscheidet\\\n",
    "und das Ergebnis in der Konsole ausgibt. So als würde eine Münze geworfen werden.\\\n",
    "Hint: Remember to import the random module first. 🎲"
   ]
  },
  {
   "attachments": {},
   "cell_type": "markdown",
   "metadata": {},
   "source": [
    "#### **Lösung Lv 4 Quest 1 Flip Coin**"
   ]
  },
  {
   "cell_type": "code",
   "execution_count": 180,
   "metadata": {},
   "outputs": [
    {
     "name": "stdout",
     "output_type": "stream",
     "text": [
      "Hallo ich werde für Sie eine Münze werfen.\n",
      "Zahl\n"
     ]
    }
   ],
   "source": [
    "print(\"Hallo ich werde für Sie eine Münze werfen.\")\n",
    "flipCoin = random.randint(0, 1)\n",
    "if flipCoin == 0:\n",
    "    print(\"Kopf\")\n",
    "else: print(\"Zahl\")"
   ]
  },
  {
   "attachments": {},
   "cell_type": "markdown",
   "metadata": {},
   "source": [
    "#### **Lv 4 Quest 2 Names Roulette**\n",
    "\n",
    "Sie werden ein Programm schreiben, das einen zufälligen Namen aus einer Liste von\\ Namen auswählt.\\\n",
    "Die ausgewählte Person muss die gesamte Rechnung für alle bezahlen.\\\n",
    "Wichtig: Sie dürfen die Funktion choice() nicht verwenden.\\\n",
    "names_string.split zerlegt die Zeichenkette names_string in einzelne Namen und stellt\\\n",
    "sie in eine Liste mit dem Namen \"names\" zusammen.\\\n",
    "Damit dies funktioniert, müssen Sie alle Namen als \"names\" gefolgt von einem Komma\\\n",
    "und einem Leerzeichen eingeben. z.B. name, name, name"
   ]
  },
  {
   "cell_type": "code",
   "execution_count": null,
   "metadata": {},
   "outputs": [],
   "source": [
    "# Split string method\n",
    "names_string = input(\"Give me everybody's names, separated by a comma. \")\n",
    "names = names_string.split(\", \")\n",
    "# 🚨 Don't change the code above 👆\n",
    "\n",
    "#Write your code below this line 👇"
   ]
  },
  {
   "attachments": {},
   "cell_type": "markdown",
   "metadata": {},
   "source": [
    "#### **Lösung Lv 4 Quest 2 Names Roulette**"
   ]
  },
  {
   "cell_type": "code",
   "execution_count": 1,
   "metadata": {},
   "outputs": [
    {
     "name": "stdout",
     "output_type": "stream",
     "text": [
      "Rhode\n"
     ]
    }
   ],
   "source": [
    "# Split string method\n",
    "names_string = input(\"Give me everybody's names, separated by a comma. \")\n",
    "names = names_string.split(\", \")\n",
    "# 🚨 Don't change the code above 👆\n",
    "\n",
    "import random\n",
    "#Write your code below this line 👇\n",
    "namesIndex = len(names)\n",
    "randomNumber = random.randint(0, namesIndex-1)\n",
    "print(names[randomNumber])"
   ]
  }
 ],
 "metadata": {
  "kernelspec": {
   "display_name": "Python 3",
   "language": "python",
   "name": "python3"
  },
  "language_info": {
   "codemirror_mode": {
    "name": "ipython",
    "version": 3
   },
   "file_extension": ".py",
   "mimetype": "text/x-python",
   "name": "python",
   "nbconvert_exporter": "python",
   "pygments_lexer": "ipython3",
   "version": "3.10.2"
  },
  "orig_nbformat": 4,
  "vscode": {
   "interpreter": {
    "hash": "199d4d96980d3c77fd685aeae9f69782f382d18d101d3d05db881b6799e10f7f"
   }
  }
 },
 "nbformat": 4,
 "nbformat_minor": 2
}
