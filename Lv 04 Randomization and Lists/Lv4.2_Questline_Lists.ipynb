{
 "cells": [
  {
   "attachments": {},
   "cell_type": "markdown",
   "metadata": {},
   "source": [
    "# **Level 4.2 Questline Lists**\n",
    "\n",
    "    https://docs.python.org/3/\n",
    "    https://docs.python.org/3/tutorial/datastructures.html"
   ]
  },
  {
   "cell_type": "code",
   "execution_count": 21,
   "metadata": {},
   "outputs": [
    {
     "name": "stdout",
     "output_type": "stream",
     "text": [
      "4\n",
      "Lemon\n",
      "Melon\n",
      "['Apple', 'Sherry', 'Lemon', 'Melon']\n",
      "['Apple', 'Sherry', 'Lemon', 'Melon', 'Dragonfruit']\n",
      "['Apple', 'Sherry', 'Lemon', 'Melon', 'Dragonfruit', 'Oranges', 'Mango']\n",
      "['Apple', 'Pomegrenate', 'Sherry', 'Lemon', 'Melon', 'Dragonfruit', 'Oranges', 'Mango']\n",
      "8\n",
      "['Apple', 'Sherry', 'Lemon', 'Melon', 'Dragonfruit', 'Oranges', 'Mango']\n",
      "7\n",
      "['Apple', 'Melon', 'Dragonfruit', 'Oranges', 'Mango']\n",
      "['Oranges', 'Melon', 'Dragonfruit', 'Apple', 'Mango']\n"
     ]
    }
   ],
   "source": [
    "fruits = []\n",
    "fruits = [\"Apple\", \"Cherry\", \"Lemon\", \"Melon\"]\n",
    "# Anzahl an Elementen in einer Liste\n",
    "print(len(fruits))\n",
    "\n",
    "# Indexing\n",
    "print(fruits[2])\n",
    "# print(fruits[4]) Wirft einen Fehler wenn Index nicht vorhanden\n",
    "print(fruits[-1])\n",
    "\n",
    "fruits[1] = \"Sherry\"\n",
    "print(fruits)\n",
    "fruits.append(\"Dragonfruit\")\n",
    "print(fruits)\n",
    "fruits.extend([\"Oranges\", \"Mango\"])\n",
    "print(fruits)\n",
    "\n",
    "# Ein neues Element in die Liste integrieren\n",
    "fruits.insert(1, \"Pomegrenate\")\n",
    "print(fruits)\n",
    "\n",
    "# Löschen eines Elementes aus einer Liste\n",
    "print(len(fruits))\n",
    "del fruits[1]\n",
    "print(fruits)\n",
    "print(len(fruits))\n",
    "\n",
    "fruits.remove(fruits[1])\n",
    "fruits.remove(\"Lemon\")\n",
    "print(fruits)\n",
    "\n",
    "# Elemente in einer Liste tauschen\n",
    "fruits[0], fruits[3] = fruits[3], fruits[0]\n",
    "print(fruits)\n",
    "\n"
   ]
  },
  {
   "attachments": {},
   "cell_type": "markdown",
   "metadata": {},
   "source": [
    "#### **Lv 4 Lists Training**\n",
    "\n",
    "\n",
    "This is an existing list of numbers hidden in the hat.\\\n",
    "Step 1: write a line of code that prompts the user\\\n",
    "to replace the middle number with an integer number entered by the user.\\\n",
    "Step 2: write a line of code that removes the last element from the list.\\\n",
    "Step 3: write a line of code that prints the length of the existing list."
   ]
  },
  {
   "cell_type": "code",
   "execution_count": null,
   "metadata": {},
   "outputs": [],
   "source": [
    "hat_list = [1, 2, 3, 4, 5]\n",
    "\n",
    "print(hat_list)"
   ]
  },
  {
   "cell_type": "code",
   "execution_count": 26,
   "metadata": {},
   "outputs": [
    {
     "name": "stdout",
     "output_type": "stream",
     "text": [
      "[1, 2, 3, 4, 5]\n",
      "[1, 2, 42, 4, 5]\n",
      "4\n",
      "[1, 2, 42, 4]\n"
     ]
    }
   ],
   "source": [
    "hat_list = [1, 2, 3, 4, 5]\n",
    "\n",
    "print(hat_list)\n",
    "number = int(input(\"Tausche bitte die Ziffer in der Mitte der Liste mit einer beliebig ausgewählten Ziffer.\"))\n",
    "\n",
    "hat_list[2] = number\n",
    "print(hat_list)\n",
    "hat_list.remove(hat_list[-1])\n",
    "print(len(hat_list))\n",
    "print(hat_list)\n"
   ]
  },
  {
   "attachments": {},
   "cell_type": "markdown",
   "metadata": {},
   "source": [
    "### **Element in List not in List**"
   ]
  },
  {
   "cell_type": "code",
   "execution_count": 38,
   "metadata": {},
   "outputs": [
    {
     "name": "stdout",
     "output_type": "stream",
     "text": [
      "False\n",
      "True\n",
      "True\n",
      "3\n",
      "7\n",
      "11\n",
      "42\n",
      "34\n",
      "49\n"
     ]
    }
   ],
   "source": [
    "some_list = [1, 2, 3, 4, 5, 42]\n",
    "print(7 in some_list)\n",
    "print(7 not in some_list)\n",
    "print(42 in some_list)\n",
    "\n",
    "# Zählt wie oft sich ein Element in einer Liste befindet\n",
    "some_list.count(42)\n",
    "\n",
    "drawn = [5, 11, 9, 42, 3, 49]\n",
    "bets = [3, 7, 11, 42, 34, 49]\n",
    "hits = 0\n",
    "\n",
    "for number in bets:\n",
    "    print(number)\n",
    "    if number in drawn:\n",
    "        hits += 1\n",
    "        #print(hits)\n",
    "#print(hits)\n"
   ]
  },
  {
   "attachments": {},
   "cell_type": "markdown",
   "metadata": {},
   "source": [
    "#### **Lv 4 in | not in Training**\n",
    "\n",
    "Stellen Sie sich eine Liste vor - nicht sehr lang, nicht sehr kompliziert,\\\n",
    "nur eine einfache Liste mit einigen ganzen Zahlen.\\\n",
    "Einige dieser Zahlen können sich wiederholen, und das ist der entscheidende Hinweis.\\\n",
    "Wir wollen keine Wiederholungen.\n",
    "\n",
    "Ihre Aufgabe ist es, ein Programm zu schreiben,\\\n",
    "das alle Zahlenwiederholungen aus der Liste entfernt.\\\n",
    "Das Ziel ist es, eine Liste zu erhalten, in der alle Zahlen nur einmal vorkommen.\n",
    "\n",
    "Hinweis: Gehen Sie davon aus, dass die Ausgangsliste im Code fest codiert ist.\\\n",
    "Sie müssen sie nicht über die Tastatur eingeben. \n",
    "\n",
    "Tipp: Es ist empfohlen, eine neue Liste als vorübergehenden Arbeitsbereich zu erstellen\\\n",
    "Sie müssen die Liste nicht lokal aktualisieren."
   ]
  },
  {
   "cell_type": "code",
   "execution_count": null,
   "metadata": {},
   "outputs": [],
   "source": [
    "# ---- Code Snippet ---- #\n",
    "some_list = [1, 2, 4, 4, 1, 4, 2, 6, 2, 9]\n",
    "#\n",
    "# Schreiben Sie hier Ihren Code\n",
    "#\n",
    "print(\"Liste mit einzigartigen Elementen.\")\n",
    "print(some_list)"
   ]
  },
  {
   "attachments": {},
   "cell_type": "markdown",
   "metadata": {},
   "source": [
    "#### **Lösung Lv 4 in | not in Training**"
   ]
  },
  {
   "cell_type": "code",
   "execution_count": null,
   "metadata": {},
   "outputs": [],
   "source": [
    "# ----- Lösung ----- # \n",
    "my_list = [1, 2, 4, 4, 1, 4, 2, 6, 2, 9]\n",
    "unique_list = []\n",
    "\n",
    "for number in my_list:\n",
    "    if number not in unique_list:\n",
    "        unique_list.append(number)\n",
    "\n",
    "print(unique_list)\n",
    "print(my_list)"
   ]
  },
  {
   "cell_type": "code",
   "execution_count": 40,
   "metadata": {},
   "outputs": [
    {
     "name": "stdout",
     "output_type": "stream",
     "text": [
      "Liste mit einzigartigen Elementen.\n",
      "[1, 2, 4, 4, 1, 4, 2, 6, 2, 9]\n",
      "[1, 2, 4, 6, 9]\n"
     ]
    }
   ],
   "source": [
    "# ---- Code Snippet ---- #\n",
    "some_list = [1, 2, 4, 4, 1, 4, 2, 6, 2, 9]\n",
    "unique_list = []\n",
    "\n",
    "for number in some_list:\n",
    "    if number not in unique_list:\n",
    "        unique_list.append(number)\n",
    "\n",
    "print(\"Liste mit einzigartigen Elementen.\")\n",
    "print(some_list)\n",
    "print(unique_list)"
   ]
  },
  {
   "cell_type": "code",
   "execution_count": 48,
   "metadata": {},
   "outputs": [
    {
     "name": "stdout",
     "output_type": "stream",
     "text": [
      "['B', 'C']\n"
     ]
    }
   ],
   "source": [
    "list_1 = [\"A\", \"B\", \"C\"]\n",
    "list_2 = list_1\n",
    "list_3 = list_2\n",
    "\n",
    "del list_1[0]\n",
    "del list_2[0]\n",
    "# Wie würde der Output aussehen\n",
    "print(list_3)"
   ]
  },
  {
   "attachments": {},
   "cell_type": "markdown",
   "metadata": {},
   "source": [
    "# **Nested Lists**"
   ]
  },
  {
   "cell_type": "code",
   "execution_count": 54,
   "metadata": {},
   "outputs": [
    {
     "name": "stdout",
     "output_type": "stream",
     "text": [
      "[['Strawberrys', 'Nectarines', 'Apples', 'Grapes', 'Peaches', 'Cherries', 'Pears'], ['Spinach', 'Kale', 'Tomatoes', 'Celery', 'Potatoes']]\n",
      "Tomatoes\n"
     ]
    }
   ],
   "source": [
    "# Listen werden in eine neue Liste integriert\n",
    "fruits = [\"Strawberrys\",\"Nectarines\",\"Apples\",\"Grapes\",\"Peaches\",\"Cherries\",\"Pears\"]\n",
    "vegetables = [\"Spinach\",\"Kale\",\"Tomatoes\",\"Celery\", \"Potatoes\"]\n",
    "\n",
    "dirty_dozen = [fruits, vegetables]\n",
    "\n",
    "print(dirty_dozen)\n",
    "print(dirty_dozen[1][2])"
   ]
  },
  {
   "attachments": {},
   "cell_type": "markdown",
   "metadata": {},
   "source": [
    "#### **Lv 4 Quest 3 Treasure Map**\n",
    "\n",
    "You are going to write a program that will mark a spot with an X.\\\n",
    "In the starting code, you will find a variable called map.\\\n",
    "This map contains nested lists. When map is printed this is what the nested list looks like:\\\n",
    "[['⬜️', '⬜️', '⬜️'],['⬜️', '⬜️', '⬜️'],['⬜️', '⬜️', '⬜️']]\\\n",
    "This is a bit hard to work with. We've used this line of code\\\n",
    "print(f\"{row1}\\n{row2}\\n{row3}\") to format the 3 lists to be printed as a 3 by 3 square,each on a new line.\\\n",
    "Your job is to write a program that allows you to mark a square on the map using a two-digit system. \n",
    "The first digit is the vertical location and the second digit is the horizontal location.\\\n",
    "So an input of 23 should place an X at the position shown in OneNote"
   ]
  },
  {
   "cell_type": "code",
   "execution_count": 5,
   "metadata": {},
   "outputs": [
    {
     "name": "stdout",
     "output_type": "stream",
     "text": [
      "['⬜️', 'X', '⬜️']\n",
      "['⬜️', '⬜️', '⬜️']\n",
      "['⬜️', '⬜️', '⬜️']\n"
     ]
    }
   ],
   "source": [
    "# 🚨 Don't change the code below 👇\n",
    "row1 = [\"⬜️\",\"⬜️\",\"⬜️\"]\n",
    "row2 = [\"⬜️\",\"⬜️\",\"⬜️\"]\n",
    "row3 = [\"⬜️\",\"⬜️\",\"⬜️\"]\n",
    "map = [row1, row2, row3]\n",
    "print(f\"{row1}\\n{row2}\\n{row3}\")\n",
    "position = input(\"Where do you want to put the treasure? \")\n",
    "# 🚨 Don't change the code above 👆\n",
    "\n",
    "#Write your code below this row 👇\n",
    "\n",
    "\n",
    "#Write your code above this row 👆\n",
    "\n",
    "# 🚨 Don't change the code below 👇\n",
    "print(f\"{row1}\\n{row2}\\n{row3}\")"
   ]
  },
  {
   "attachments": {},
   "cell_type": "markdown",
   "metadata": {},
   "source": [
    "#### **Lösung Lv 4 Quest 3 Treasure Map**"
   ]
  },
  {
   "cell_type": "code",
   "execution_count": null,
   "metadata": {},
   "outputs": [],
   "source": [
    "# 🚨 Don't change the code below 👇\n",
    "row1 = [\"⬜️\",\"⬜️\",\"⬜️\"]\n",
    "row2 = [\"⬜️\",\"⬜️\",\"⬜️\"]\n",
    "row3 = [\"⬜️\",\"⬜️\",\"⬜️\"]\n",
    "map = [row1, row2, row3]\n",
    "print(f\"{row1}\\n{row2}\\n{row3}\")\n",
    "position = input(\"Where do you want to put the treasure? \")\n",
    "# 🚨 Don't change the code above 👆\n",
    "\n",
    "#Write your code below this row 👇\n",
    "xCoordinate = int(position[0])-1 \n",
    "yCoordinate = int(position[1])-1\n",
    "\n",
    "map[yCoordinate][xCoordinate] = \"X\"\n",
    "\n",
    "#Write your code above this row 👆\n",
    "\n",
    "# 🚨 Don't change the code below 👇\n",
    "print(f\"{row1}\\n{row2}\\n{row3}\")"
   ]
  }
 ],
 "metadata": {
  "kernelspec": {
   "display_name": "Python 3",
   "language": "python",
   "name": "python3"
  },
  "language_info": {
   "codemirror_mode": {
    "name": "ipython",
    "version": 3
   },
   "file_extension": ".py",
   "mimetype": "text/x-python",
   "name": "python",
   "nbconvert_exporter": "python",
   "pygments_lexer": "ipython3",
   "version": "3.10.6 (tags/v3.10.6:9c7b4bd, Aug  1 2022, 21:53:49) [MSC v.1932 64 bit (AMD64)]"
  },
  "orig_nbformat": 4,
  "vscode": {
   "interpreter": {
    "hash": "199d4d96980d3c77fd685aeae9f69782f382d18d101d3d05db881b6799e10f7f"
   }
  }
 },
 "nbformat": 4,
 "nbformat_minor": 2
}
