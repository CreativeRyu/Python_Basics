{
 "cells": [
  {
   "attachments": {},
   "cell_type": "markdown",
   "metadata": {},
   "source": [
    "# **Lv 8 Questline Functions with Parameters**\n",
    "\n",
    "Ein Parameter ist eigentlich eine Variable, aber es gibt zwei wichtige Faktoren,\\\n",
    "die Parameter anders und besonders machen:"
   ]
  },
  {
   "attachments": {},
   "cell_type": "markdown",
   "metadata": {},
   "source": [
    "1. Parameter existieren nur innerhalb von Funktionen, in denen sie definiert werden.\\\n",
    "Die einzige Stelle, an der ein Parameter definiert werden kann ist die Stelle zwischen dem Klammernpaar in der def-Anweisung.\n",
    "2. Die Zuweisung eines Wertes an den Parameter erfolgt zum Zeitpunkt des Funktionsaufrufes\\\n",
    "durch Angabe des entsprechenden Arguments.\n",
    "\n",
    "Parameter befinden sich innerhalb von Funktionen\\\n",
    "Argumente existieren außerhalb von Funktionen und sind Träger von Werten,\\\n",
    "die an die entsprechenden Parameter übergeben werden."
   ]
  },
  {
   "attachments": {},
   "cell_type": "markdown",
   "metadata": {},
   "source": [
    "### **Positional Parameter Passing**"
   ]
  },
  {
   "cell_type": "code",
   "execution_count": 5,
   "metadata": {},
   "outputs": [
    {
     "name": "stdout",
     "output_type": "stream",
     "text": [
      "einen_text\n",
      "Mein Text\n"
     ]
    }
   ],
   "source": [
    "mein_text = \"Mein Text\"\n",
    "def bla_keks(text):\n",
    "    print(text)\n",
    "\n",
    "bla_keks(\"einen_text\")\n",
    "bla_keks(mein_text)"
   ]
  },
  {
   "cell_type": "code",
   "execution_count": 6,
   "metadata": {},
   "outputs": [
    {
     "name": "stdout",
     "output_type": "stream",
     "text": [
      "6\n"
     ]
    }
   ],
   "source": [
    "def calculate_numbers(num1, num2, num3):\n",
    "    print(num1 + num2 + num3)\n",
    "\n",
    "calculate_numbers(1,2,3)"
   ]
  },
  {
   "cell_type": "code",
   "execution_count": 8,
   "metadata": {},
   "outputs": [
    {
     "name": "stdout",
     "output_type": "stream",
     "text": [
      "Irgendein Text\n",
      "einen ganz anderen Text\n"
     ]
    }
   ],
   "source": [
    "# Funktionen mit default Werten -> Standardwerte\n",
    "def my_function(text = \"Irgendein Text\"):\n",
    "    print(text)\n",
    "\n",
    "my_function()\n",
    "my_function(\"einen ganz anderen Text\")"
   ]
  },
  {
   "attachments": {},
   "cell_type": "markdown",
   "metadata": {},
   "source": [
    "### **Key Argument Passing**"
   ]
  },
  {
   "cell_type": "code",
   "execution_count": 12,
   "metadata": {},
   "outputs": [
    {
     "name": "stdout",
     "output_type": "stream",
     "text": [
      "Hello, my name is Luke Skywalker\n"
     ]
    }
   ],
   "source": [
    "def introduction(first_name , last_name):\n",
    "    print(\"Hello, my name is\", first_name, last_name)\n",
    "introduction(first_name = \"Luke\", last_name =\"Skywalker\")"
   ]
  },
  {
   "attachments": {},
   "cell_type": "markdown",
   "metadata": {},
   "source": [
    "### **Mixing Positional and Keyword Parameters**\n",
    "\n",
    "Parameter ohne Standardwerte stehen immer vor Parametern mit Standardwerten.\\\n",
    "Positional Parameters before Keyword Parameters"
   ]
  },
  {
   "cell_type": "code",
   "execution_count": 3,
   "metadata": {},
   "outputs": [
    {
     "name": "stdout",
     "output_type": "stream",
     "text": [
      "einen_Texteinen_Texteinen_Texteinen_Texteinen_Texteinen_Texteinen_Texteinen_Texteinen_Texteinen_Text\n"
     ]
    }
   ],
   "source": [
    "def eine_funktion(text, zeichen=\"*\", anzahl = 10):\n",
    "    print(anzahl * text)\n",
    "\n",
    "einen_text = \"einen_Text\"\n",
    "eine_funktion(einen_text)"
   ]
  },
  {
   "cell_type": "code",
   "execution_count": 7,
   "metadata": {},
   "outputs": [
    {
     "name": "stdout",
     "output_type": "stream",
     "text": [
      "3 + 1 + 5 = 9\n"
     ]
    }
   ],
   "source": [
    "def adding_numbers(a, b, c):\n",
    "    print(a, \"+\", b, \"+\", c, \"=\", a + b + c)\n",
    "\n",
    "# Übergabe eines\n",
    "adding_numbers(3, c = 1, b = 5)"
   ]
  },
  {
   "attachments": {},
   "cell_type": "markdown",
   "metadata": {},
   "source": [
    "#### **Lv 8 Quest 1 Paint Area Calculator**\n",
    "\n",
    "Sie streichen eine Wand. In der Anleitung auf der Farbdose steht,\\\n",
    "dass 1 Dose Farbe 5 Quadratmeter Wand bedecken kann.\\\n",
    "Berechnen Sie anhand einer beliebigen Wandhöhe und Breite,\\\n",
    "wie viele Dosen Farbe Sie kaufen müssen.\\\n",
    "Schreiben Sie dazu eine Funktion mit Parametern."
   ]
  },
  {
   "cell_type": "code",
   "execution_count": null,
   "metadata": {},
   "outputs": [],
   "source": [
    "# ################################# 👇\n",
    "\n",
    "\n",
    "# ################################# 👆\n",
    "\n",
    "# Define a function called paint_calc() so that the code below works.   \n",
    "\n",
    "# 🚨 Don't change the code below 👇\n",
    "test_h = int(input(\"Height of wall: \"))\n",
    "test_w = int(input(\"Width of wall: \"))\n",
    "coverage = 5\n",
    "paint_calc(height=test_h, width=test_w, cover=coverage)"
   ]
  },
  {
   "attachments": {},
   "cell_type": "markdown",
   "metadata": {},
   "source": [
    "#### **Lösung Lv 8 Quest 1 Paint Area Calculator**"
   ]
  },
  {
   "cell_type": "code",
   "execution_count": 15,
   "metadata": {},
   "outputs": [
    {
     "ename": "ValueError",
     "evalue": "invalid literal for int() with base 10: '2.1'",
     "output_type": "error",
     "traceback": [
      "\u001b[1;31m---------------------------------------------------------------------------\u001b[0m",
      "\u001b[1;31mValueError\u001b[0m                                Traceback (most recent call last)",
      "Cell \u001b[1;32mIn[15], line 14\u001b[0m\n\u001b[0;32m     10\u001b[0m   \u001b[39mprint\u001b[39m(\u001b[39mf\u001b[39m\u001b[39m\"\u001b[39m\u001b[39mTatsächliche Anzahl benötigter Farbeimer \u001b[39m\u001b[39m{\u001b[39;00mnumber_of_cans\u001b[39m}\u001b[39;00m\u001b[39m\"\u001b[39m)\n\u001b[0;32m     11\u001b[0m \u001b[39m#Write your code above this line 👆  \u001b[39;00m\n\u001b[0;32m     12\u001b[0m \n\u001b[0;32m     13\u001b[0m \u001b[39m# 🚨 Don't change the code below 👇\u001b[39;00m\n\u001b[1;32m---> 14\u001b[0m test_h \u001b[39m=\u001b[39m \u001b[39mint\u001b[39;49m(\u001b[39minput\u001b[39;49m(\u001b[39m\"\u001b[39;49m\u001b[39mHeight of wall: \u001b[39;49m\u001b[39m\"\u001b[39;49m))\n\u001b[0;32m     15\u001b[0m test_w \u001b[39m=\u001b[39m \u001b[39mint\u001b[39m(\u001b[39minput\u001b[39m(\u001b[39m\"\u001b[39m\u001b[39mWidth of wall: \u001b[39m\u001b[39m\"\u001b[39m))\n\u001b[0;32m     16\u001b[0m coverage \u001b[39m=\u001b[39m \u001b[39m5\u001b[39m\n",
      "\u001b[1;31mValueError\u001b[0m: invalid literal for int() with base 10: '2.1'"
     ]
    }
   ],
   "source": [
    "import math\n",
    "\n",
    "# number of cans = (wall height x wall width) / coverage per can\n",
    "\n",
    "# Write your code below this line 👇\n",
    "def paint_calc(height, width, cover):\n",
    "  number_of_cans = (height * width)/cover\n",
    "  print(f\"Anzahl der Kannen vor dem Runden {number_of_cans}\")\n",
    "  number_of_cans = math.ceil(number_of_cans)\n",
    "  print(f\"Tatsächliche Anzahl benötigter Farbeimer {number_of_cans}\")\n",
    "#Write your code above this line 👆  \n",
    "\n",
    "# 🚨 Don't change the code below 👇\n",
    "test_h = int(input(\"Height of wall: \"))\n",
    "test_w = int(input(\"Width of wall: \"))\n",
    "coverage = 5\n",
    "paint_calc(height=test_h, width=test_w, cover=coverage)"
   ]
  },
  {
   "attachments": {},
   "cell_type": "markdown",
   "metadata": {},
   "source": [
    "#### **Lv 8 Quest 2 Prime Number Checker**"
   ]
  },
  {
   "cell_type": "code",
   "execution_count": null,
   "metadata": {},
   "outputs": [],
   "source": [
    "# Primzahlen sind Zahlen, die nur durch sich selbst und durch 1 teilbar sind.\n",
    "# Schreiben Sie eine Funktion die prüft, ob die eingegebene Zahl eine Primzahl ist oder nicht.\n",
    "# z.B. 2 ist eine Primzahl, weil sie nur durch 1 und 2 teilbar ist.\n",
    "# Aber 4 ist keine Primzahl, weil man sie durch 1, 2 oder 4 teilen kann.\n",
    "\n",
    "\n",
    "# Write your code below this line 👇\n",
    "def prime_checker(number):\n",
    "\n",
    "# Write your code above this line 👆\n",
    "\n",
    "# Do NOT change any of the code below👇\n",
    "n = int(input(\"Check this number: \"))\n",
    "prime_checker(number=n)"
   ]
  },
  {
   "attachments": {},
   "cell_type": "markdown",
   "metadata": {},
   "source": [
    "#### **Lösung Lv 8 Quest 2 Prime Number Checker**"
   ]
  },
  {
   "cell_type": "code",
   "execution_count": null,
   "metadata": {},
   "outputs": [],
   "source": [
    "#Write your code below this line 👇\n",
    "isPrime = \"It's a prime number.\"\n",
    "isNotPrime = \"It's not a prime number.\"\n",
    "\n",
    "def prime_checker(number):\n",
    "  if number == 2 or number == 3:\n",
    "    print(isPrime)\n",
    "  elif number % 2 == 0 or number < 2:\n",
    "    print(isNotPrime)\n",
    "  elif number % 3 == 0:\n",
    "    print(isNotPrime)\n",
    "  else:\n",
    "    print(isPrime)\n",
    "    \n",
    "  input()\n",
    "\n",
    "# Write your code above this line 👆\n",
    "\n",
    "# Do NOT change any of the code below👇\n",
    "n = int(input(\"Check this number: \"))\n",
    "prime_checker(number=n)"
   ]
  },
  {
   "cell_type": "code",
   "execution_count": null,
   "metadata": {},
   "outputs": [],
   "source": [
    "# Another Solution\n",
    "#Write your code below this line 👇\n",
    "isPrime = \"It's a prime number.\"\n",
    "isNotPrime = \"It's not a prime number.\"\n",
    "\n",
    "def prime_checker(number):\n",
    "    is_prime = True\n",
    "    for i in range(2, number):\n",
    "        if number % i == 0:\n",
    "            is_prime = False\n",
    "    if is_prime == True:\n",
    "        print(isPrime)\n",
    "    else:\n",
    "        print(isNotPrime)\n",
    "\n",
    "    input()\n",
    "\n",
    "#Write your code above this line 👆\n",
    "\n",
    "#Do NOT change any of the code below👇\n",
    "n = int(input(\"Check this number: \"))\n",
    "prime_checker(number=n)"
   ]
  }
 ],
 "metadata": {
  "kernelspec": {
   "display_name": "Python 3",
   "language": "python",
   "name": "python3"
  },
  "language_info": {
   "codemirror_mode": {
    "name": "ipython",
    "version": 3
   },
   "file_extension": ".py",
   "mimetype": "text/x-python",
   "name": "python",
   "nbconvert_exporter": "python",
   "pygments_lexer": "ipython3",
   "version": "3.10.2"
  },
  "orig_nbformat": 4,
  "vscode": {
   "interpreter": {
    "hash": "199d4d96980d3c77fd685aeae9f69782f382d18d101d3d05db881b6799e10f7f"
   }
  }
 },
 "nbformat": 4,
 "nbformat_minor": 2
}
